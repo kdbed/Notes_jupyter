{
 "cells": [
  {
   "cell_type": "markdown",
   "metadata": {},
   "source": [
    "# A List of Common Bash Commands"
   ]
  },
  {
   "cell_type": "markdown",
   "metadata": {},
   "source": [
    "##  Basic Commands"
   ]
  },
  {
   "cell_type": "markdown",
   "metadata": {},
   "source": [
    "Documentation for the various system calls, utilities, and libraries available in the Linux environment are accessed through _man files_ (manual files).  For more information on the `man` command:"
   ]
  },
  {
   "cell_type": "markdown",
   "metadata": {},
   "source": [
    "`man 1 man` "
   ]
  },
  {
   "cell_type": "markdown",
   "metadata": {},
   "source": [
    "where `1` referes to the section number (1 : General Commands, 2 : System Calls, 3 : C Library Functions, 4 : Special Files -- typically those in /dev/ directory, 5 : File Formats and Conventions, 6 : Games and Screensavers, 7 : Miscellanea, 8 : System Admin Commands and Daemons) .  "
   ]
  },
  {
   "cell_type": "markdown",
   "metadata": {},
   "source": [
    "### Filesystem Navigation"
   ]
  },
  {
   "cell_type": "markdown",
   "metadata": {},
   "source": [
    "There is at least one path associated with each file on the system.  There are _absolute_ paths and _relative_ paths; absolute paths always begin with the / character.  Relative paths are in reference to to the current working directory, which can be determined with:"
   ]
  },
  {
   "cell_type": "code",
   "execution_count": 3,
   "metadata": {},
   "outputs": [
    {
     "name": "stdout",
     "output_type": "stream",
     "text": [
      "/home/kdb/Documents/jupyter/bash\n"
     ]
    }
   ],
   "source": [
    "pwd"
   ]
  },
  {
   "cell_type": "markdown",
   "metadata": {},
   "source": [
    "To change the directory, use `cd`.  As an example, one could use the absolute path to change the directory as follows:"
   ]
  },
  {
   "cell_type": "code",
   "execution_count": 7,
   "metadata": {},
   "outputs": [
    {
     "name": "stdout",
     "output_type": "stream",
     "text": [
      "/home/kdb/Documents/jupyter\n"
     ]
    }
   ],
   "source": [
    "cd /home/kdb/Documents/jupyter\n",
    "pwd"
   ]
  },
  {
   "cell_type": "markdown",
   "metadata": {},
   "source": [
    "Now use a relative path to change back to `/home/kdb/Documents/jupyter/bash`"
   ]
  },
  {
   "cell_type": "code",
   "execution_count": 8,
   "metadata": {},
   "outputs": [
    {
     "name": "stdout",
     "output_type": "stream",
     "text": [
      "/home/kdb/Documents/jupyter/bash\n"
     ]
    }
   ],
   "source": [
    "cd ./bash\n",
    "pwd"
   ]
  },
  {
   "cell_type": "markdown",
   "metadata": {},
   "source": [
    "The `ls` command lists the files in the current directory:"
   ]
  },
  {
   "cell_type": "code",
   "execution_count": 2,
   "metadata": {},
   "outputs": [
    {
     "name": "stdout",
     "output_type": "stream",
     "text": [
      "'Example Bash Commands.ipynb'\n"
     ]
    }
   ],
   "source": [
    "ls"
   ]
  },
  {
   "cell_type": "markdown",
   "metadata": {},
   "source": [
    "The current directory is referenced with a single dot `.`.  If this directory is contained within another directory (referred to as the parent directory), one can refer to the latter with double dots `..`.  "
   ]
  },
  {
   "cell_type": "code",
   "execution_count": 5,
   "metadata": {},
   "outputs": [
    {
     "name": "stdout",
     "output_type": "stream",
     "text": [
      "\u001b[0m\u001b[01;34mbash\u001b[0m  \u001b[01;34mhaskell\u001b[0m  \u001b[01;34mjulia\u001b[0m  \u001b[01;34mpython\u001b[0m  README.md  \u001b[01;34msingular\u001b[0m\n"
     ]
    }
   ],
   "source": [
    "ls ../"
   ]
  },
  {
   "cell_type": "markdown",
   "metadata": {},
   "source": [
    "Finally, the current user's home directory is referenced with a tilde `~`.  "
   ]
  },
  {
   "cell_type": "code",
   "execution_count": null,
   "metadata": {},
   "outputs": [],
   "source": []
  },
  {
   "cell_type": "code",
   "execution_count": null,
   "metadata": {},
   "outputs": [],
   "source": []
  },
  {
   "cell_type": "markdown",
   "metadata": {},
   "source": [
    "The `echo` command displays text on the screen, e.g., the first line of _Gravity's Rainbow_:"
   ]
  },
  {
   "cell_type": "code",
   "execution_count": 8,
   "metadata": {},
   "outputs": [
    {
     "name": "stdout",
     "output_type": "stream",
     "text": [
      "A screaming comes across the sky.\n"
     ]
    }
   ],
   "source": [
    "echo \"A screaming comes across the sky.\""
   ]
  },
  {
   "cell_type": "code",
   "execution_count": 9,
   "metadata": {},
   "outputs": [
    {
     "name": "stdout",
     "output_type": "stream",
     "text": [
      "/home/kdb/.cargo/bin:/home/kdb/anaconda3/bin:/home/kdb/.cargo/bin:/home/kdb/anaconda3/bin:/home/kdb/anaconda3/condabin:/home/kdb/.cargo/bin:/home/kdb/.local/bin:/usr/local/sbin:/usr/local/bin:/usr/bin:/usr/lib/jvm/default/bin:/usr/bin/site_perl:/usr/bin/vendor_perl:/usr/bin/core_perl:/var/lib/snapd/snap/bin\n"
     ]
    }
   ],
   "source": [
    "echo $PATH"
   ]
  },
  {
   "cell_type": "code",
   "execution_count": null,
   "metadata": {},
   "outputs": [],
   "source": []
  }
 ],
 "metadata": {
  "kernelspec": {
   "display_name": "Bash",
   "language": "bash",
   "name": "bash"
  },
  "language_info": {
   "codemirror_mode": "shell",
   "file_extension": ".sh",
   "mimetype": "text/x-sh",
   "name": "bash"
  }
 },
 "nbformat": 4,
 "nbformat_minor": 2
}
