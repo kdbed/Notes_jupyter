{
 "cells": [
  {
   "cell_type": "code",
   "execution_count": null,
   "metadata": {},
   "outputs": [],
   "source": [
    "import sys\n",
    "import OpenGL.GL as gl\n",
    "import OpenGL.GLUT as glut\n",
    "\n",
    "def display():\n",
    "    glut.glutSwapBuffers()\n",
    "\n",
    "def reshape(width,height):\n",
    "    gl.glViewport(0, 0, width, height)\n",
    "\n",
    "def keyboard( key, x, y ):\n",
    "    if key == b'\\x1b':\n",
    "        sys.exit( )\n",
    "\n",
    "glut.glutInit()\n",
    "glut.glutInitDisplayMode(glut.GLUT_DOUBLE | glut.GLUT_RGBA)\n",
    "glut.glutCreateWindow('Hello world!')\n",
    "glut.glutReshapeWindow(512,512)\n",
    "glut.glutReshapeFunc(reshape)\n",
    "glut.glutDisplayFunc(display)\n",
    "glut.glutKeyboardFunc(keyboard)\n",
    "glut.glutMainLoop()"
   ]
  },
  {
   "cell_type": "code",
   "execution_count": null,
   "metadata": {},
   "outputs": [],
   "source": []
  }
 ],
 "metadata": {
  "@webio": {
   "lastCommId": null,
   "lastKernelId": null
  },
  "kernelspec": {
   "display_name": "Python 2",
   "language": "python",
   "name": "python2"
  },
  "language_info": {
   "codemirror_mode": {
    "name": "ipython",
    "version": 2
   },
   "file_extension": ".py",
   "mimetype": "text/x-python",
   "name": "python",
   "nbconvert_exporter": "python",
   "pygments_lexer": "ipython2",
   "version": "2.7.18"
  }
 },
 "nbformat": 4,
 "nbformat_minor": 2
}
