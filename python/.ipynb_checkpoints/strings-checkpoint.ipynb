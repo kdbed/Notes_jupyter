{
 "cells": [
  {
   "cell_type": "markdown",
   "metadata": {},
   "source": [
    "# Working with strings in Python"
   ]
  },
  {
   "cell_type": "markdown",
   "metadata": {},
   "source": [
    "Python stores strings as immutable lists, so making a change to a string means making copies to new locations in memory."
   ]
  },
  {
   "cell_type": "code",
   "execution_count": 1,
   "metadata": {},
   "outputs": [
    {
     "name": "stdout",
     "output_type": "stream",
     "text": [
      "Hello World\n"
     ]
    }
   ],
   "source": [
    "# concatenation\n",
    "cat_string = \"Hello \" + \"World\"\n",
    "print(cat_string)"
   ]
  },
  {
   "cell_type": "code",
   "execution_count": 2,
   "metadata": {},
   "outputs": [
    {
     "name": "stdout",
     "output_type": "stream",
     "text": [
      "HowdyHowdyHowdy\n"
     ]
    }
   ],
   "source": [
    "# multiplication operator\n",
    "mult_string = \"Howdy\"*3\n",
    "print(mult_string)"
   ]
  },
  {
   "cell_type": "code",
   "execution_count": 4,
   "metadata": {},
   "outputs": [
    {
     "name": "stdout",
     "output_type": "stream",
     "text": [
      "System 47\n"
     ]
    }
   ],
   "source": [
    "# use these operators with other types by converting to string\n",
    "conv_to_string = \"System \" + str(47)\n",
    "print(conv_to_string)"
   ]
  },
  {
   "cell_type": "code",
   "execution_count": 5,
   "metadata": {},
   "outputs": [
    {
     "name": "stdout",
     "output_type": "stream",
     "text": [
      "strings are not equal\n"
     ]
    }
   ],
   "source": [
    "# compare values of variables\n",
    "str1 = \"howdy\"\n",
    "str2 = \"hello\"\n",
    "if str1 == str2:\n",
    "    print(\"strings are equal\")\n",
    "else: \n",
    "    print(\"strings are not equal\")\n"
   ]
  },
  {
   "cell_type": "code",
   "execution_count": null,
   "metadata": {},
   "outputs": [],
   "source": [
    "# finding a substring\n"
   ]
  }
 ],
 "metadata": {
  "kernelspec": {
   "display_name": "Python 3",
   "language": "python",
   "name": "python3"
  },
  "language_info": {
   "codemirror_mode": {
    "name": "ipython",
    "version": 3
   },
   "file_extension": ".py",
   "mimetype": "text/x-python",
   "name": "python",
   "nbconvert_exporter": "python",
   "pygments_lexer": "ipython3",
   "version": "3.8.3"
  }
 },
 "nbformat": 4,
 "nbformat_minor": 2
}
