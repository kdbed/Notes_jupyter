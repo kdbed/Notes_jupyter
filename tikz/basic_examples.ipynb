{
 "cells": [
  {
   "cell_type": "code",
   "execution_count": null,
   "metadata": {},
   "outputs": [],
   "source": [
    "%load_ext tikzmagic"
   ]
  },
  {
   "cell_type": "code",
   "execution_count": null,
   "metadata": {},
   "outputs": [],
   "source": [
    "%%tikz\n",
    "\\draw (0,0) rectangle (1,1);\n",
    "\\filldraw (0.5,0.5) circle (.1);"
   ]
  },
  {
   "cell_type": "code",
   "execution_count": null,
   "metadata": {},
   "outputs": [],
   "source": [
    "%tikz \\draw (0,0) rectangle (1,1);"
   ]
  },
  {
   "cell_type": "code",
   "execution_count": null,
   "metadata": {},
   "outputs": [],
   "source": [
    "%%tikz -p tikz-network \n",
    "\\Vertex{A};\n",
    "\\Vertex[x=1,y=1]{B};\n",
    "\\Vertex[x=2]{C};"
   ]
  },
  {
   "cell_type": "code",
   "execution_count": null,
   "metadata": {},
   "outputs": [],
   "source": [
    "%%tikz\n",
    "\\tikzset{every node/.style={font=\\sffamily,white}}\n",
    "\n",
    "\\node[fill=red] at (0,0) (a) {This};\n",
    "\\node[fill=blue] at (2,0) (b) {That};\n",
    "\\draw[->] (a) -- (b);"
   ]
  },
  {
   "cell_type": "code",
   "execution_count": null,
   "metadata": {},
   "outputs": [],
   "source": [
    "%%tikz -p pgfplots\n",
    "\\begin{axis}\n",
    "    [\n",
    "    axis lines = center,\n",
    "    grid=both,\n",
    "    minor tick num=1,\n",
    "    xlabel=$x$,ylabel=$y$,\n",
    "    samples=50,\n",
    "    domain=-3:3,\n",
    "    ]\n",
    "\n",
    "    \\addplot [] (x^2+0.8, x);\n",
    "    \\addplot [dashed] (1.5,x);\n",
    "\n",
    "    \\addplot [red, mark = o] coordinates {( 1.5, 0)};\n",
    "    \\addplot [red, mark = o] coordinates {( 1.5, +0.837)};\n",
    "    \\addplot [red, mark = o] coordinates {( 1.5, -0.837)};\n",
    "    \\addplot [red, mark = o] coordinates {( 0, 0)};\n",
    "\n",
    "\\end{axis}"
   ]
  },
  {
   "cell_type": "code",
   "execution_count": null,
   "metadata": {},
   "outputs": [],
   "source": [
    "%%tikz \n",
    "% Figure parameters (tta and k needs to have the same sign)\n",
    "% They can be modified at will\n",
    "\\def \\tta{ -10.00000000000000 } % Defines the first angle of perspective\n",
    "\\def \\k{    -3.00000000000000 } % Factor for second angle of perspective\n",
    "\\def \\l{     6.00000000000000 } % Defines the width  of the parallelepiped\n",
    "\\def \\d{     5.00000000000000 } % Defines the depth  of the parallelepiped\n",
    "\\def \\h{     7.00000000000000 } % Defines the heigth of the parallelepiped\n",
    "\n",
    "% The vertices A,B,C,D define the reference plan (vertical)\n",
    "\\coordinate (A) at (0,0); \n",
    "\\coordinate (B) at ({-\\h*sin(\\tta)},{\\h*cos(\\tta)}); \n",
    "\\coordinate (C) at ({-\\h*sin(\\tta)-\\d*sin(\\k*\\tta)},\n",
    "                    {\\h*cos(\\tta)+\\d*cos(\\k*\\tta)}); \n",
    "\\coordinate (D) at ({-\\d*sin(\\k*\\tta)},{\\d*cos(\\k*\\tta)}); \n",
    "\n",
    "% The vertices Ap,Bp,Cp,Dp define a plane translated from the \n",
    "% reference plane by the width of the parallelepiped\n",
    "\\coordinate (Ap) at (\\l,0); \n",
    "\\coordinate (Bp) at ({\\l-\\h*sin(\\tta)},{\\h*cos(\\tta)}); \n",
    "\\coordinate (Cp) at ({\\l-\\h*sin(\\tta)-\\d*sin(\\k*\\tta)},\n",
    "                     {\\h*cos(\\tta)+\\d*cos(\\k*\\tta)}); \n",
    "\\coordinate (Dp) at ({\\l-\\d*sin(\\k*\\tta)},{\\d*cos(\\k*\\tta)}); \n",
    "\n",
    "% Marking the vertices of the tetrahedron (red)\n",
    "% and of the parallelepiped (black)\n",
    "\\fill[black]  (A) circle [radius=2pt]; \n",
    "\\fill[red]    (B) circle [radius=2pt]; \n",
    "\\fill[black]  (C) circle [radius=2pt]; \n",
    "\\fill[red]    (D) circle [radius=2pt]; \n",
    "\\fill[red]   (Ap) circle [radius=2pt]; \n",
    "\\fill[black] (Bp) circle [radius=2pt]; \n",
    "\\fill[red]   (Cp) circle [radius=2pt]; \n",
    "\\fill[black] (Dp) circle [radius=2pt]; \n",
    "\n",
    "% painting first the three visible faces of the tetrahedron\n",
    "\\filldraw[draw=red,bottom color=red!50!black, top color=cyan!50]\n",
    "  (B) -- (Cp) -- (D);\n",
    "\\filldraw[draw=red,bottom color=red!50!black, top color=cyan!50]\n",
    "  (B) -- (D)  -- (Ap);\n",
    "\\filldraw[draw=red,bottom color=red!50!black, top color=cyan!50]\n",
    "  (B) -- (Cp) -- (Ap);\n",
    "\n",
    "% Draw the edges of the tetrahedron\n",
    "\\draw[red,-,very thick] (Ap) --  (D)\n",
    "                        (Ap) --  (B)\n",
    "                        (Ap) -- (Cp)\n",
    "                        (B)  --  (D)\n",
    "                        (Cp) --  (D)\n",
    "                        (B)  -- (Cp);\n",
    "\n",
    "% Draw the visible edges of the parallelepiped\n",
    "\\draw [-,thin] (B)  --  (A)\n",
    "               (Ap) -- (Bp)\n",
    "               (B)  --  (C)\n",
    "               (D)  --  (C)\n",
    "               (A)  --  (D)\n",
    "               (Ap) --  (A)\n",
    "               (Cp) --  (C)\n",
    "               (Bp) --  (B)\n",
    "               (Bp) -- (Cp);\n",
    "\n",
    "% Draw the hidden edges of the parallelepiped\n",
    "\\draw [gray,-,thin] (Dp) -- (Cp);\n",
    "                    (Dp) --  (D);\n",
    "                    (Ap) -- (Dp);\n",
    "\n",
    "% Name the vertices (the names are not consistent\n",
    "%  with the node name, but it makes the programming easier)\n",
    "\\draw (Ap) node [right]           {$A$}\n",
    "      (Bp) node [right, gray]     {$F$}\n",
    "      (Cp) node [right]           {$D$}\n",
    "      (C)  node [left,gray]       {$E$}\n",
    "      (D)  node [left]            {$B$}\n",
    "      (A)  node [left,gray]       {$G$}\n",
    "      (B)  node [above left=+5pt] {$C$}\n",
    "      (Dp) node [right,gray]      {$H$};\n",
    "\n",
    "% Drawing again vertex $C$, node (B) because it disappeared behind the edges.\n",
    "% Drawing again vertex $H$, node (Dp) because it disappeared behind the edges.\n",
    "\\fill[red]   (B) circle [radius=2pt]; \n",
    "\\fill[gray] (Dp) circle [radius=2pt]; \n",
    "\n",
    "% From the reference and this example one can easily draw \n",
    "% the twin tetrahedron jointly to this one.\n",
    "% Drawing the edges of the twin tetrahedron\n",
    "% switching the p_s: A <-> Ap, etc...\n",
    "\\draw[red,-,dashed, thin] (A)  -- (Dp)\n",
    "                          (A)  -- (Bp)\n",
    "                          (A)  --  (C)\n",
    "                          (Bp) -- (Dp)\n",
    "                          (C)  -- (Dp)\n",
    "                          (Bp) --  (C);"
   ]
  },
  {
   "cell_type": "code",
   "execution_count": null,
   "metadata": {},
   "outputs": [],
   "source": [
    "%%tikz -p circuitikz\n",
    "\\draw ( 0, 0) [short, *-] node[anchor=south] {$\\Phi_J$} to (0, -1);\n",
    "\n",
    "% right\n",
    "\\draw ( 0, -1) to (2, -1) to node[anchor=west] {$\\Phi_{J}^2$} (2, -2) to (3, -2)\n",
    "               to [barrier, l=$E_J^2$] (3, -4) to (2, -4)to (2, -5) to (0, -5) node[ground] {};\n",
    "\\draw ( 2, -2) to (1, -2) to [capacitor, l=$C_J^2$] (1, -4) to (1, -4) to (2, -4);\n",
    "\n",
    "% left\n",
    "\\draw ( 0, -1) to (-2, -1) to node[anchor=west] {$\\Phi_{J}^1$} (-2, -2) to (-3, -2)\n",
    "               to [capacitor, l=$C_J^1$] (-3, -4) to (-2, -4)  to (-2, -5) to (0, -5); \n",
    "\\draw (-2, -2) to (-1, -2) to [barrier, l=$E_J^1$] (-1, -4) to (-1, -4) to (-2, -4);"
   ]
  },
  {
   "cell_type": "code",
   "execution_count": null,
   "metadata": {},
   "outputs": [],
   "source": [
    "%%tikz -"
   ]
  }
 ],
 "metadata": {
  "@webio": {
   "lastCommId": null,
   "lastKernelId": null
  },
  "kernelspec": {
   "display_name": "Python 3",
   "language": "python",
   "name": "python3"
  },
  "language_info": {
   "codemirror_mode": {
    "name": "ipython",
    "version": 3
   },
   "file_extension": ".py",
   "mimetype": "text/x-python",
   "name": "python",
   "nbconvert_exporter": "python",
   "pygments_lexer": "ipython3",
   "version": "3.6.0"
  }
 },
 "nbformat": 4,
 "nbformat_minor": 2
}
