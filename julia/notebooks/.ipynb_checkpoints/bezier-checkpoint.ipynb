{
 "cells": [
  {
   "cell_type": "markdown",
   "metadata": {},
   "source": [
    ">This post was inspired mostly by the arrival of the new Julia package [Literate.jl](https://github.com/fredrikekre/Literate.jl) by Fredrik Ekre. Literate lets you write a Julia source file, a Markdown blog post, and a Jupyter notebook all at the same time. It's magic, or, at least, indistinguishable from magic... As a result, you might be able to find a Jupyter notebook version of this Markdown-converted Julia source file somewhere nearby (look in the [github repo](https://github.com/cormullion/cormullion.github.io) for this blog, perhaps). The code uses the following packages, Literate, Luxor, Colors, Roots, Fontconfig, DataFrames, Iterators, ColorSchemes, and should work in Julia v0.6 (some packages such as Colors have yet to be updated to work with version 0.7)."
   ]
  },
  {
   "cell_type": "markdown",
   "metadata": {},
   "source": [
    "# Bézier moi!"
   ]
  },
  {
   "cell_type": "markdown",
   "metadata": {},
   "source": [
    "Luxor provides some support for Bézier curves, but there's no room for any more documentation—it's already too big. So the intention of this post is to provide some of the missing information about what's up with Bézier curves and how you might use them. And I confess in advance to wasting some of your bandwidth with some pointlessly colourful graphics."
   ]
  },
  {
   "cell_type": "markdown",
   "metadata": {},
   "source": [
    "There's not a lot of mathematical material here, but fortunately the internet is *awash* with high-quality information about Bézier curves. The two articles you should definitely read instead of this post, or at least before, are:"
   ]
  },
  {
   "cell_type": "markdown",
   "metadata": {},
   "source": [
    "- [https://pomax.github.io/bezierinfo/](https://pomax.github.io/bezierinfo/)  An exhaustive and exhausting examination of Bézier curves by Mike 'Pomax' Kamermans, Mozilla JavaScript guru, complete with interactive JavaScript graphics."
   ]
  },
  {
   "cell_type": "markdown",
   "metadata": {},
   "source": [
    "- [http://mae.engr.ucdavis.edu/~farouki/bernstein.pdf](http://mae.engr.ucdavis.edu/~farouki/bernstein.pdf) A paper exploring the history and mathematics of curves by Professor Rida T. Farouki (University of California Davis)."
   ]
  },
  {
   "cell_type": "markdown",
   "metadata": {},
   "source": [
    "## Historical background"
   ]
  },
  {
   "cell_type": "markdown",
   "metadata": {},
   "source": [
    "The story is quite well known: two engineers employed in the French car industry, *Paul de Faget de Casteljau*, at Citroen, and *Pierre Etienne Bézier*, at Renault, worked—mostly independently—on the mathematics of curves in the early 1960s, as the industry made its first tentative steps towards using computers for design and production."
   ]
  },
  {
   "cell_type": "markdown",
   "metadata": {},
   "source": [
    "![Citroen DS](notebooks/images/bezier/2560px-Bornholm_Rundt_2012.jpg)"
   ]
  },
  {
   "cell_type": "markdown",
   "metadata": {},
   "source": [
    "(This is the Citroen DS, which was once voted the most beautiful car ever made, apparently. Image from the WikiMedia Commons photographed by [Klugschnacker](https://commons.wikimedia.org/w/index.php?curid=28638457))"
   ]
  },
  {
   "cell_type": "markdown",
   "metadata": {},
   "source": [
    "De Casteljau and Bézier were interested in mathematical tools that would allow designers to intuitively construct and manipulate complex shapes. This problem was especially critical for “free–form” shapes that couldn't easily be specified by centre points, axes, angles, and dimensions. The motivation was also partly to replace the laborious, variable, and expensive process of sculpting clay models to specify the desired shape."
   ]
  },
  {
   "cell_type": "markdown",
   "metadata": {},
   "source": [
    "De Casteljau found some resistance when his mathematical researches were introduced into the design studio. He observed that:"
   ]
  },
  {
   "cell_type": "markdown",
   "metadata": {},
   "source": [
    ">the designers were astonished and scandalized. Was it some kind of joke? It was considered nonsense to represent a car body mathematically. It was enough to please the eye, the word 'accuracy' had no meaning. [quoted in Farouki]"
   ]
  },
  {
   "cell_type": "markdown",
   "metadata": {},
   "source": [
    "Bézier popularized, but did not actually create, what we know today as the Bézier curve. He mainly developed the notation, and devised the idea of nodes with attached \"control handles\", which the designers could use to adjust the shapes as easily as they used the turn indicators on their beloved Citroen DSs."
   ]
  },
  {
   "cell_type": "markdown",
   "metadata": {},
   "source": [
    "De Casteljau is also remembered for the [algorithm](https://en.wikipedia.org/wiki/De_Casteljau%27s_algorithm) that bears his name."
   ]
  },
  {
   "cell_type": "markdown",
   "metadata": {},
   "source": [
    "## The shortest distance?"
   ]
  },
  {
   "cell_type": "markdown",
   "metadata": {},
   "source": [
    "With the lingering thought of old Renaults and Citroens in mind, it's tempting to think of a Bézier curve as a line that takes, not the shortest distance between two points, but takes instead the scenic route."
   ]
  },
  {
   "cell_type": "markdown",
   "metadata": {},
   "source": [
    "Let's define four points:"
   ]
  },
  {
   "cell_type": "code",
   "execution_count": 1,
   "metadata": {},
   "outputs": [],
   "source": [
    "using Luxor\n",
    "P1  = Point(-200, 0)\n",
    "CP1 = Point(-100, -100)\n",
    "CP2 = Point(100, -100)\n",
    "P2  = Point(200, 0)\n",
    "@png begin\n",
    "    circle.([P1, CP1, CP2, P2], 5, :fill)\n",
    "    label.([\"P1\", \"CP1\", \"CP2\", \"P2\"], :N, [P1, CP1, CP2, P2], offset=10)\n",
    "end 800 300 \"images/bezier/fourpoints.png\""
   ]
  },
  {
   "cell_type": "markdown",
   "metadata": {},
   "source": [
    "![four points](notebooks/images/bezier/fourpoints.png)"
   ]
  },
  {
   "cell_type": "markdown",
   "metadata": {},
   "source": [
    "The first and last points, P1 and P2, are the start and end of the line. The second point, CP1, controls the direction of the line as it leaves the first point, and the third point, CP2, determines the way the line approaches the fourth point. PostScript guru Don Lancaster (see footnote) uses the terms ‘influence point’ and ‘enthusiasm’—so the second influence point determines the enthusiasm with which the curve travels towards its final destination."
   ]
  },
  {
   "cell_type": "markdown",
   "metadata": {},
   "source": [
    "The graphics primitive `curve()` function draws a Bézier curve between P1 and P2, taking into account the positions of control points CP1 and CP2. It takes just three points, using the current position as the starting point."
   ]
  },
  {
   "cell_type": "code",
   "execution_count": 2,
   "metadata": {},
   "outputs": [],
   "source": [
    "using Colors\n",
    "@png begin\n",
    "    sethue(\"red\")\n",
    "    label.([\"P1\", \"CP1\", \"CP2\", \"P2\"], :N, [P1, CP1, CP2, P2])\n",
    "    line(P1, CP1,:stroke)\n",
    "    line(CP2, P2,:stroke)\n",
    "    sethue(\"black\")\n",
    "    move(P1)\n",
    "    curve(CP1, CP2, P2)\n",
    "    strokepath()\n",
    "    circle.([P1, CP1, CP2, P2], 3, :fill)\n",
    "end 800 300 \"images/bezier/curve.png\""
   ]
  },
  {
   "cell_type": "markdown",
   "metadata": {},
   "source": [
    "![simple bezier curve](notebooks/images/bezier/curve.png)"
   ]
  },
  {
   "cell_type": "markdown",
   "metadata": {},
   "source": [
    "The control points are like handles, controlling the shape of the curve. If you've used Adobe Illustrator or some other vector graphics software, you'll be familiar with the idea of interactively dragging the handles around to get interesting curves. In Luxor, though, we sacrifice interactivity in favour of ruthless machine-driven automation. In the following animation, the control handles explore the geometry of a couple of hypotrochoids, while the helpless Bézier curve is pinned between them and forced into sinuous contortions:"
   ]
  },
  {
   "cell_type": "markdown",
   "metadata": {},
   "source": [
    "# ![animation gif](notebooks/images/bezier/animation.gif)"
   ]
  },
  {
   "cell_type": "markdown",
   "metadata": {},
   "source": [
    "Can I make this in Adobe Illustrator? Hold my beer..."
   ]
  },
  {
   "cell_type": "markdown",
   "metadata": {},
   "source": [
    "While you're waiting, have a look at another animation; this is my artist's impression of the De Casteljau algorithm dividing the control polygons around a Bézier curve as the parameter `n` moves from 0 to 1. The idea is that as `p1` divides `A` to `A1`, `p2` divides `A1` to `B1` and `p3` divides `B1` to `B`. So, `pp1` divides `p1` to `p2`, and `pp2` divides `p2` to `p3`. And you keep doing this until you can't divide any more, and eventually the point `P` plots the course of the final Bézier curve. The red and blue parts of the curve show that this technique is also a good way to split a single Bézier curve into two separate ones, and the red and blue parts are separate control polygons."
   ]
  },
  {
   "cell_type": "markdown",
   "metadata": {},
   "source": [
    "![De Casteljau](notebooks/images/bezier/decasteljau.gif)"
   ]
  },
  {
   "cell_type": "markdown",
   "metadata": {},
   "source": [
    "In Luxor, a `BezierPathSegment` type contains four 2D points, stored in the fields `p1`, `cp1`, `cp2`, and `p2`, and a `BezierPath` is an array of one or more of these BezierPathSegments. The `drawbezierpath()` function draws a BezierPath or BezierPathSegment, with similar results to the `curve()` function:"
   ]
  },
  {
   "cell_type": "code",
   "execution_count": 3,
   "metadata": {},
   "outputs": [],
   "source": [
    "@png begin\n",
    "    P1  = Point(-200, 0)\n",
    "    CP1 = Point(-100, -100)\n",
    "    CP2 = Point(100, -100)\n",
    "    P2  = Point(200, 0)\n",
    "\n",
    "    sethue(\"red\")\n",
    "    label.([\"P1\", \"CP1\", \"CP2\", \"P2\"], :N, [P1, CP1, CP2, P2])\n",
    "    line(P1, CP1,:stroke)\n",
    "    line(P2, CP2,:stroke)\n",
    "    sethue(\"black\")\n",
    "\n",
    "    beziersegment = BezierPathSegment(P1, CP1, CP2, P2)\n",
    "    circle.(beziersegment, 3, :fill)\n",
    "    drawbezierpath(beziersegment, :stroke)\n",
    "end 800 250 \"images/bezier/drawbezierpath.png\""
   ]
  },
  {
   "cell_type": "markdown",
   "metadata": {},
   "source": [
    "![draw a Bezier path](notebooks/images/bezier/drawbezierpath.png)"
   ]
  },
  {
   "cell_type": "markdown",
   "metadata": {},
   "source": [
    "This last function, `drawbezierpath()` is a typical Luxor drawing function, in that you can provide `:fill` as an alternative action to `:stroke`."
   ]
  },
  {
   "cell_type": "markdown",
   "metadata": {},
   "source": [
    "An easy way to make a BezierPath is to use `makebezierpath()` and supply a polygon. For example, let's make a triangle with `ngon()` and use it as the skeleton for a new Bézier path:"
   ]
  },
  {
   "cell_type": "code",
   "execution_count": 4,
   "metadata": {},
   "outputs": [],
   "source": [
    "@png begin\n",
    "    sethue(\"red\")\n",
    "    triangle = ngon(O, 120, 3, vertices=true)\n",
    "    poly(triangle, :stroke, close=true)\n",
    "\n",
    "    sethue(\"black\")\n",
    "    bezierpath = makebezierpath(triangle)\n",
    "    drawbezierpath(bezierpath, :stroke)\n",
    "    circle.(triangle, 5, :fill)\n",
    "\n",
    "    for bps in bezierpath\n",
    "        circle.(bps, 3, :fill)\n",
    "        line(bps[1], bps[2], :stroke)\n",
    "        line(bps[3], bps[4], :stroke)\n",
    "    end\n",
    "\n",
    "    label.([\"p1\", \"p2\", \"p3\"], [:S, :NW, :E], triangle, offset=10)\n",
    "end 800 400 \"images/bezier/makebezierpath.png\""
   ]
  },
  {
   "cell_type": "markdown",
   "metadata": {},
   "source": [
    "![make bezier path](notebooks/images/bezier/makebezierpath.png)"
   ]
  },
  {
   "cell_type": "markdown",
   "metadata": {},
   "source": [
    "Here `makebezierpath()` converted the three points into an array of three separate Bézier path segments. The control points are positioned so that the curve flows freely from one segment to the segment."
   ]
  },
  {
   "cell_type": "markdown",
   "metadata": {},
   "source": [
    "## Going straight"
   ]
  },
  {
   "cell_type": "markdown",
   "metadata": {},
   "source": [
    "Bézier curves can have straight bits too. This animation shows the control points moving towards the points they're controlling. When they merge, the Bézier path appears to become a series of straight lines:"
   ]
  },
  {
   "cell_type": "code",
   "execution_count": 5,
   "metadata": {},
   "outputs": [
    {
     "name": "stdout",
     "output_type": "stream",
     "text": [
      "┌ Info: Frames for animation \"bedtimemovie\" are being stored in directory: \n",
      "│ \t /var/folders/0n/rxl1scks0f19tnxt9pgjcs_40000gp/T/jl_v3xJaJ\n",
      "└ @ Luxor /Users/pete/.julia/dev/Luxor/src/animate.jl:170\n",
      "┌ Warning: Movie framerange is longer than scene frame range: \n",
      "│ \t 1:250 > 150\n",
      "└ @ Luxor /Users/pete/.julia/dev/Luxor/src/animate.jl:178\n",
      "┌ Info: ... 150 frames saved in directory:\n",
      "│ \t /var/folders/0n/rxl1scks0f19tnxt9pgjcs_40000gp/T/jl_v3xJaJ\n",
      "└ @ Luxor /Users/pete/.julia/dev/Luxor/src/animate.jl:192\n",
      "┌ Info: GIF is: images/bezier/bedtimemovie.gif\n",
      "└ @ Luxor /Users/pete/.julia/dev/Luxor/src/animate.jl:207\n"
     ]
    },
    {
     "data": {
      "text/plain": [
       "true"
      ]
     },
     "execution_count": 5,
     "metadata": {},
     "output_type": "execute_result"
    }
   ],
   "source": [
    "function frame(scene, framenumber)\n",
    "    background(\"white\")\n",
    "    eased_n = scene.easingfunction(framenumber, 0, 1, scene.framerange.stop)\n",
    "    sethue(\"red\")\n",
    "    triangle = ngon(O, 120, 3, vertices=true)\n",
    "    poly(triangle, :stroke, close=true)\n",
    "    sethue(\"black\")\n",
    "    bezierpath = makebezierpath(triangle)\n",
    "    newbezierpath = BezierPath()\n",
    "    for bps in bezierpath\n",
    "        push!(newbezierpath,\n",
    "            BezierPathSegment(bps.p1,\n",
    "             between(bps.cp1, bps.p1, eased_n),\n",
    "             between(bps.cp2, bps.p2, eased_n),\n",
    "             bps.p2))\n",
    "    end\n",
    "    for bps in newbezierpath\n",
    "        circle.(bps, 3, :fill)\n",
    "        line(bps.p1, bps.cp1, :stroke)\n",
    "        line(bps.cp2, bps.p2, :stroke)\n",
    "    end\n",
    "    drawbezierpath(newbezierpath, :stroke)\n",
    "end\n",
    "\n",
    "width, height = (256, 256)\n",
    "\n",
    "bedtimemovie = Movie(width, height, \"bedtimemovie\")\n",
    "# probably requires ffmpeg installed\n",
    "animate(bedtimemovie, [Scene(bedtimemovie, frame, 1:150, easingfunction=easeoutquad)], creategif=true, framerate=30, pathname=\"images/bezier/bedtimemovie.gif\")"
   ]
  },
  {
   "cell_type": "markdown",
   "metadata": {},
   "source": [
    "# ![bedtime for Béziers](notebooks/images/bezier/bedtimemovie.gif)"
   ]
  },
  {
   "cell_type": "markdown",
   "metadata": {},
   "source": [
    "This is a process known to very young Adobe Illustrator users as ‘putting the Bézier handles to bed’."
   ]
  },
  {
   "cell_type": "markdown",
   "metadata": {},
   "source": [
    "It's also fun to move the control points somewhere else. Here, they're multiplied by 2, while the first and last points are left unchanged:"
   ]
  },
  {
   "cell_type": "code",
   "execution_count": 6,
   "metadata": {},
   "outputs": [],
   "source": [
    "@png begin\n",
    "    sethue(\"red\")\n",
    "    triangle = ngon(O, 100, 3, vertices=true)\n",
    "    poly(triangle, :stroke, close=true)\n",
    "\n",
    "    sethue(\"purple\")\n",
    "    bezierpath = makebezierpath(triangle)\n",
    "    drawbezierpath(bezierpath, :stroke)\n",
    "    sethue(\"magenta\")\n",
    "    for bps in bezierpath\n",
    "        bps = BezierPathSegment(bps[1], 2bps[2], 2bps[3], bps[4])\n",
    "        drawbezierpath(bps, :stroke)\n",
    "    end\n",
    "\n",
    "end 800 400 \"images/bezier/movecontrolpoints.png\""
   ]
  },
  {
   "cell_type": "markdown",
   "metadata": {},
   "source": [
    "![moving control points](notebooks/images/bezier/movecontrolpoints.png)"
   ]
  },
  {
   "cell_type": "markdown",
   "metadata": {},
   "source": [
    "We could make even more copies, multiplying the control points each time through:"
   ]
  },
  {
   "cell_type": "code",
   "execution_count": 7,
   "metadata": {},
   "outputs": [],
   "source": [
    "@png begin\n",
    "    setline(.5)\n",
    "    pgon = ngon(O, 100, 3, vertices=true)\n",
    "    bezierpath = makebezierpath(pgon)\n",
    "\n",
    "    for bpseg in bezierpath\n",
    "        for i in 1:20\n",
    "            bpseg.cp1 *= 1.05\n",
    "            bpseg.cp2 *= 1.05\n",
    "            drawbezierpath(bpseg, :stroke)\n",
    "        end\n",
    "    end\n",
    "end 800 400 \"images/bezier/movecontrolpointsmore.png\""
   ]
  },
  {
   "cell_type": "markdown",
   "metadata": {},
   "source": [
    "![moving multiple control points](notebooks/images/bezier/movecontrolpointsmore.png)"
   ]
  },
  {
   "cell_type": "markdown",
   "metadata": {},
   "source": [
    "Try changing the initial triangle to a pentagon or heptagon by changing the `3` in `ngon()`. And try multiplying by less than 1.05 too..."
   ]
  },
  {
   "cell_type": "markdown",
   "metadata": {},
   "source": [
    "Should you ever want to draw Bézier curves \"the hard way\", try this. The standard Bézier function is available in Luxor as `bezier()`, and we could draw a small hue-varying circle at each point:"
   ]
  },
  {
   "cell_type": "code",
   "execution_count": 8,
   "metadata": {},
   "outputs": [],
   "source": [
    "@png begin\n",
    "    setopacity(0.6)\n",
    "    P1  = Point(-250, 0)\n",
    "    CP1 = Point(-200, -150)\n",
    "    CP2 = Point(200, -150)\n",
    "    P2  = Point(250, 0)\n",
    "    circle.([P1, CP1, CP2, P2], 3, :fill)\n",
    "\n",
    "    for u in 0.0:0.025:1.0\n",
    "        sethue(Colors.HSV(rescale(u, 0, 1, 0, 360), 1, 1))\n",
    "        pt = bezier(u, P1, CP1, CP2, P2)\n",
    "        circle(pt, 5, :fill)\n",
    "    end\n",
    "\n",
    "end 800 400 \"images/bezier/thehardway.png\""
   ]
  },
  {
   "cell_type": "markdown",
   "metadata": {},
   "source": [
    "![bezier the hard way](notebooks/images/bezier/thehardway.png)"
   ]
  },
  {
   "cell_type": "markdown",
   "metadata": {},
   "source": [
    "What happens if you step `u` from say, -25.0 to 25.0? And is that supposed to happen? (Spoiler: the curve doubles back and shoots off to `(±∞/∞)`.)"
   ]
  },
  {
   "cell_type": "markdown",
   "metadata": {},
   "source": [
    "## Out of control"
   ]
  },
  {
   "cell_type": "markdown",
   "metadata": {},
   "source": [
    "Suppose you wanted to draw a Bézier curve but you didn't know where the control points were, but you did know a couple of points that should lie on the line? Again, Luxor has the answer for you, in the form of a function called `bezierfrompoints()`. You supply four points, and the function returns the points of the Bézier curve that passes through them."
   ]
  },
  {
   "cell_type": "code",
   "execution_count": 9,
   "metadata": {},
   "outputs": [],
   "source": [
    "@png begin\n",
    "    sethue(\"grey80\")\n",
    "    box(O, 120, 100, :stroke)\n",
    "    corners = box(O, 120, 100, vertices=true)\n",
    "    label.([\"1\", \"2\",\"3\", \"4\"], :se, corners, offset=10)\n",
    "    sethue(\"red\")\n",
    "    circle.(corners, 5, :fill)\n",
    "\n",
    "    startpoint, cp1, cp2, endpoint  = bezierfrompoints(corners...)\n",
    "\n",
    "    sethue(\"purple\")\n",
    "    line(startpoint, cp1, :stroke)\n",
    "    line(endpoint, cp2, :stroke)\n",
    "\n",
    "    sethue(\"turquoise\")\n",
    "    circle.([cp1, cp2, startpoint, endpoint], 3, :fill)\n",
    "\n",
    "    sethue(\"blue\")\n",
    "    drawbezierpath(BezierPathSegment(startpoint, cp1, cp2, endpoint), :stroke)\n",
    "end 800 300 \"images/bezier/bezierfrompoints.png\""
   ]
  },
  {
   "cell_type": "markdown",
   "metadata": {},
   "source": [
    "![bezier through four points](notebooks/images/bezier/bezierfrompoints.png)"
   ]
  },
  {
   "cell_type": "markdown",
   "metadata": {},
   "source": [
    "Note that this function returns all four points, but of course you already knew the first and last ones (in `corners`), you just wanted the two control points."
   ]
  },
  {
   "cell_type": "markdown",
   "metadata": {},
   "source": [
    "## On the right path?"
   ]
  },
  {
   "cell_type": "markdown",
   "metadata": {},
   "source": [
    "In Luxor the three main ways to make graphic lines and shapes are: *paths*, *polygons*, and *BezierPaths*. Paths are the fundamental building blocks of graphics, consisting of one or more sequences of straight and Bézier curves. A polygon is an array of points, which will be converted to a path when you draw it. And BezierPaths consist of a list of BezierPathSegments, which will also be converted to ordinary paths when they're drawn."
   ]
  },
  {
   "cell_type": "markdown",
   "metadata": {},
   "source": [
    "It's useful to be able to convert between the different types:"
   ]
  },
  {
   "cell_type": "markdown",
   "metadata": {},
   "source": [
    "|   Function                                   |  Converts                                   |\n",
    "|-----------------------------                 | ------------------------------------------- |\n",
    "|   `makebezierpath(pgon)`                     |  polygon to BezierPath                      |\n",
    "|   `pathtopoly()`                             |  current path to array of polygons          |\n",
    "|   `pathtobezierpaths()`                      |  current path to array of BezierPaths       |\n",
    "|   `beziertopoly(bpseg)`                      |  BezierPathSegment to polygon               |\n",
    "|   `bezierpathtopoly(bezierpath)`             |  BezierPath to polygon                      |\n",
    "|   `bezierfrompoints(p1, p2, p3, p4)`         |  convert four points to BezierPathSegment   |"
   ]
  },
  {
   "cell_type": "markdown",
   "metadata": {},
   "source": [
    "## Can't draw a circle?"
   ]
  },
  {
   "cell_type": "markdown",
   "metadata": {},
   "source": [
    "Having witnessed the ability of a simple Bézier curve to adopt so many shapes, it's a bit surprising to find out that you can't use a Bézier curve to draw a circle. Well, it can do a very good impression of one, of course, but mathematically it can't produce a purely circular curve. You can see this if you draw a *very* large circle and a *very* large matching Bézier segment. For a circle with radius 10 meters (and that's one big PDF), the discrepancy between the pure circle and the Bézier approximation isn't much bigger than the size of this period/full stop.←"
   ]
  },
  {
   "cell_type": "markdown",
   "metadata": {},
   "source": [
    "We non-scientists are lucky in not having to worry about errors of this magnitude..."
   ]
  },
  {
   "cell_type": "markdown",
   "metadata": {},
   "source": [
    "# ![a 10 metre circle](notebooks/images/bezier/10metrecircle.png)"
   ]
  },
  {
   "cell_type": "markdown",
   "metadata": {},
   "source": [
    "In the above picture, the red circle is made by `circle()`, the green one is made with Bézier curves (as used by `circlepath()` and `ellipse()`)."
   ]
  },
  {
   "cell_type": "markdown",
   "metadata": {},
   "source": [
    "## “0.55228474983 is the magic number”"
   ]
  },
  {
   "cell_type": "markdown",
   "metadata": {},
   "source": [
    "To draw approximate circles using Bézier curves, you need to know the magic number, usually called *kappa*, which has the value 0.552284.... We're looking at a Bézier curve pretending to be a circular quadrant, with control points positioned at a certain distance kappa from the end points. But how far? What value of kappa—what length of handle—will give us the most circular curve?"
   ]
  },
  {
   "cell_type": "markdown",
   "metadata": {},
   "source": [
    "A picture of the problem, using a deliberately not-very-good guess at a value for *kappa* of 0.5:"
   ]
  },
  {
   "cell_type": "code",
   "execution_count": 10,
   "metadata": {},
   "outputs": [],
   "source": [
    "@png begin\n",
    "    scale(3)\n",
    "    fontsize(7)\n",
    "    translate(0, -50)\n",
    "    setline(1)\n",
    "\n",
    "    radius = 100\n",
    "\n",
    "    kappa_guess = .5\n",
    "\n",
    "    sethue(\"red\")\n",
    "    arc(O, radius, 0, pi/2, :stroke)\n",
    "\n",
    "    sethue(\"black\")\n",
    "    quadrant = BezierPathSegment(\n",
    "        Point(0, radius),\n",
    "        Point(kappa_guess * radius, radius),\n",
    "        Point(radius, kappa_guess * radius),\n",
    "        Point(radius, 0))\n",
    "    circle.(quadrant, 1, :fill)\n",
    "    arrow(quadrant.p1, quadrant.cp1, arrowheadlength=5)\n",
    "    arrow(quadrant.p2, quadrant.cp2, arrowheadlength=5)\n",
    "\n",
    "    drawbezierpath(quadrant, :stroke)\n",
    "\n",
    "    arrow(O, bezier(0.5, quadrant...))\n",
    "\n",
    "    label.([\"(0, 1)\", \"(k, 1)\", \"(1, k)\", \"(1, 0)\"], [:S, :S, :E, :E], quadrant)\n",
    "    label(\"kappa_guess = 0.5\", :S, midpoint(quadrant.p1, quadrant.cp1), offset=15)\n",
    "end 800 450 \"images/bezier/kappaguess.png\""
   ]
  },
  {
   "cell_type": "markdown",
   "metadata": {},
   "source": [
    "![guessing at kappa](notebooks/images/bezier/kappaguess.png)"
   ]
  },
  {
   "cell_type": "markdown",
   "metadata": {},
   "source": [
    "To solve this, we'll define a function that takes a value for `kappa` and works out the radius at the center of the Bézier curve."
   ]
  },
  {
   "cell_type": "code",
   "execution_count": 11,
   "metadata": {},
   "outputs": [
    {
     "data": {
      "text/plain": [
       "radiusofbezier (generic function with 1 method)"
      ]
     },
     "execution_count": 11,
     "metadata": {},
     "output_type": "execute_result"
    }
   ],
   "source": [
    "_radiusofbezier(κ) = distance(O,\n",
    "    bezier(0.5, BezierPathSegment(\n",
    "        Point(0, 1),\n",
    "        Point(κ * 1, 1),\n",
    "        Point(1, κ * 1),\n",
    "        Point(1, 0)\n",
    "        )...))\n",
    "\n",
    "radiusofbezier(x) = _radiusofbezier(x) - 1"
   ]
  },
  {
   "cell_type": "markdown",
   "metadata": {},
   "source": [
    "And we'll use one of the many excellent packages in [JuliaMath](https://github.com/JuliaMath/), Roots.jl, to find the zero point:"
   ]
  },
  {
   "cell_type": "code",
   "execution_count": 12,
   "metadata": {},
   "outputs": [
    {
     "name": "stdout",
     "output_type": "stream",
     "text": [
      "Results of univariate zero finding:\n",
      "\n",
      "* Converged to: 0.5522847498307936\n",
      "* Algorithm: Roots.BisectionExact()\n",
      "* iterations: 58\n",
      "* function evaluations: 60\n",
      "* stopped as |f(x_n)| ≤ max(δ, max(1,|x|)⋅ϵ) using δ = atol, ϵ = rtol\n",
      "\n",
      "Trace:\n",
      "(a_0, b_0) = ( 0.0000000000000000,  1.0000000000000000)\n",
      "(a_1, b_1) = ( 0.0000000000000000,  1.0000000000000000)\n",
      "(a_2, b_2) = ( 0.0000000000000000,  1.0000000000000000)\n",
      "(a_3, b_3) = ( 0.0000000000000000,  1.0000000000000000)\n",
      "(a_4, b_4) = ( 0.0000000000000000,  1.0000000000000000)\n",
      "(a_5, b_5) = ( 0.0000000002401066,  1.0000000000000000)\n",
      "(a_6, b_6) = ( 0.0000154972076416,  1.0000000000000000)\n",
      "(a_7, b_7) = ( 0.0039367675781250,  1.0000000000000000)\n",
      "(a_8, b_8) = ( 0.0627441406250000,  1.0000000000000000)\n",
      "(a_9, b_9) = ( 0.2504882812500000,  1.0000000000000000)\n",
      "(a_10, b_10) = ( 0.5004882812500000,  1.0000000000000000)\n",
      "(a_11, b_11) = ( 0.5004882812500000,  0.7502441406250000)\n",
      "(a_12, b_12) = ( 0.5004882812500000,  0.6253662109375000)\n",
      "(a_13, b_13) = ( 0.5004882812500000,  0.5629272460937500)\n",
      "(a_14, b_14) = ( 0.5317077636718750,  0.5629272460937500)\n",
      "(a_15, b_15) = ( 0.5473175048828125,  0.5629272460937500)\n",
      "(a_16, b_16) = ( 0.5473175048828125,  0.5551223754882813)\n",
      "(a_17, b_17) = ( 0.5512199401855469,  0.5551223754882813)\n",
      "(a_18, b_18) = ( 0.5512199401855469,  0.5531711578369141)\n",
      "(a_19, b_19) = ( 0.5521955490112305,  0.5531711578369141)\n",
      "(a_20, b_20) = ( 0.5521955490112305,  0.5526833534240723)\n",
      "(a_21, b_21) = ( 0.5521955490112305,  0.5524394512176514)\n",
      "(a_22, b_22) = ( 0.5521955490112305,  0.5523175001144409)\n",
      "(a_23, b_23) = ( 0.5522565245628357,  0.5523175001144409)\n",
      "(a_24, b_24) = ( 0.5522565245628357,  0.5522870123386383)\n",
      "(a_25, b_25) = ( 0.5522717684507370,  0.5522870123386383)\n",
      "(a_26, b_26) = ( 0.5522793903946877,  0.5522870123386383)\n",
      "(a_27, b_27) = ( 0.5522832013666630,  0.5522870123386383)\n",
      "(a_28, b_28) = ( 0.5522832013666630,  0.5522851068526506)\n",
      "(a_29, b_29) = ( 0.5522841541096568,  0.5522851068526506)\n",
      "(a_30, b_30) = ( 0.5522846304811537,  0.5522851068526506)\n",
      "(a_31, b_31) = ( 0.5522846304811537,  0.5522848686669022)\n",
      "(a_32, b_32) = ( 0.5522847495740280,  0.5522848686669022)\n",
      "(a_33, b_33) = ( 0.5522847495740280,  0.5522848091204651)\n",
      "(a_34, b_34) = ( 0.5522847495740280,  0.5522847793472465)\n",
      "(a_35, b_35) = ( 0.5522847495740280,  0.5522847644606372)\n",
      "(a_36, b_36) = ( 0.5522847495740280,  0.5522847570173326)\n",
      "(a_37, b_37) = ( 0.5522847495740280,  0.5522847532956803)\n",
      "(a_38, b_38) = ( 0.5522847495740280,  0.5522847514348541)\n",
      "(a_39, b_39) = ( 0.5522847495740280,  0.5522847505044410)\n",
      "(a_40, b_40) = ( 0.5522847495740280,  0.5522847500392345)\n",
      "(a_41, b_41) = ( 0.5522847498066312,  0.5522847500392345)\n",
      "(a_42, b_42) = ( 0.5522847498066312,  0.5522847499229329)\n",
      "(a_43, b_43) = ( 0.5522847498066312,  0.5522847498647820)\n",
      "(a_44, b_44) = ( 0.5522847498066312,  0.5522847498357066)\n",
      "(a_45, b_45) = ( 0.5522847498211689,  0.5522847498357066)\n",
      "(a_46, b_46) = ( 0.5522847498284378,  0.5522847498357066)\n",
      "(a_47, b_47) = ( 0.5522847498284378,  0.5522847498320722)\n",
      "(a_48, b_48) = ( 0.5522847498302550,  0.5522847498320722)\n",
      "(a_49, b_49) = ( 0.5522847498302550,  0.5522847498311636)\n",
      "(a_50, b_50) = ( 0.5522847498307093,  0.5522847498311636)\n",
      "(a_51, b_51) = ( 0.5522847498307093,  0.5522847498309365)\n",
      "(a_52, b_52) = ( 0.5522847498307093,  0.5522847498308229)\n",
      "(a_53, b_53) = ( 0.5522847498307660,  0.5522847498308229)\n",
      "(a_54, b_54) = ( 0.5522847498307660,  0.5522847498307945)\n",
      "(a_55, b_55) = ( 0.5522847498307802,  0.5522847498307945)\n",
      "(a_56, b_56) = ( 0.5522847498307873,  0.5522847498307945)\n",
      "(a_57, b_57) = ( 0.5522847498307909,  0.5522847498307945)\n",
      "(a_58, b_58) = ( 0.5522847498307927,  0.5522847498307945)\n",
      "\n"
     ]
    },
    {
     "data": {
      "text/plain": [
       "0.5522847498307936"
      ]
     },
     "execution_count": 12,
     "metadata": {},
     "output_type": "execute_result"
    }
   ],
   "source": [
    "using Roots\n",
    "find_zero(radiusofbezier, (0, 1), verbose=true)"
   ]
  },
  {
   "cell_type": "markdown",
   "metadata": {},
   "source": [
    "So that's `kappa`."
   ]
  },
  {
   "cell_type": "markdown",
   "metadata": {},
   "source": [
    "Alternatively, we can use algebraic sorcery and the parametric equation for the Bézier cubic function to conjure the value from the following incantations:"
   ]
  },
  {
   "cell_type": "markdown",
   "metadata": {},
   "source": [
    "$$\n",
    " \\begin{equation}\n",
    " \\mathbf{p1} = (0, 1)                                                                                               \\\\\\\n",
    " \\mathbf{cp1} = (k, 1)                                                                                              \\\\\\\n",
    " \\mathbf{cp2} = (1, k)                                                                                              \\\\\\\n",
    " \\mathbf{p2} = (1, 0)                                                                                               \\\\\\\n",
    " B(u) = \\mathbf{p1}(1 - u)³ + \\mathbf{cp1} 3u(1 - u)² + \\mathbf{cp2}3u²(1 - u) + \\mathbf{p2} u³ \\\\\\\n",
    " u = 0.5                                                                                                            \\\\\\\n",
    "\\sqrt{0.5}  = \\frac{\\mathbf{p1}}{8} + \\frac{3\\mathbf{cp1}}{8} + \\frac{3\\mathbf{cp2}}{8} + \\frac{\\mathbf{p2}}{}      \\\\\\\n",
    "x: \\sqrt{0.5}  = \\frac{0}{8} + \\frac{3 k}{8} + \\frac{3}{8} + \\frac{1}{8}                                            \\\\\\\n",
    "y: \\sqrt{0.5}  = \\frac{1}{8} + \\frac{3 }{8} + \\frac{3 k}{8} + \\frac{0}{8}                                           \\\\\\\n",
    "\\frac{\\sqrt{2}}{2} = 3  \\frac{k}{8} + \\frac{4}{8}                                                                   \\\\\\\n",
    "\\sqrt{2} = 3  \\frac{k}{4} + \\frac{4}{4}                                                                             \\\\\\\n",
    " \\sqrt{2} = 3  \\frac{k}{4} + 1                                                                                      \\\\\\\n",
    " \\sqrt{2} - 1 = 3  \\frac{k}{4}                                                                                      \\\\\\\n",
    "3 k  = 4  (\\sqrt{2} - 1)                                                                                            \\\\\\\n",
    "k = \\frac{4}{3}  (\\sqrt{2} - 1)                                                                                     \\\\\\\n",
    "k = 0.5522847498307936                                                                                              \\\\\\\n",
    "\\end{equation}\n",
    "$$"
   ]
  },
  {
   "cell_type": "markdown",
   "metadata": {},
   "source": [
    "I suspect most applications simply hard-code the magic number 0.552284... directly."
   ]
  },
  {
   "cell_type": "markdown",
   "metadata": {},
   "source": [
    "The following code shows how we could animate the process of changing the length of the handles by changing the value of kappa. Blink and you'll miss the sweet spot, though, and the movement of the handles is imperceptible, so perhaps this isn't the best way of illustrating the construction."
   ]
  },
  {
   "cell_type": "code",
   "execution_count": 13,
   "metadata": {},
   "outputs": [
    {
     "name": "stdout",
     "output_type": "stream",
     "text": [
      "┌ Info: Frames for animation \"circlefrombezier\" are being stored in directory: \n",
      "│ \t /var/folders/0n/rxl1scks0f19tnxt9pgjcs_40000gp/T/jl_PwxMvL\n",
      "└ @ Luxor /Users/pete/.julia/dev/Luxor/src/animate.jl:170\n",
      "┌ Warning: Movie framerange is longer than scene frame range: \n",
      "│ \t 1:250 > 150\n",
      "└ @ Luxor /Users/pete/.julia/dev/Luxor/src/animate.jl:178\n",
      "┌ Info: ... 150 frames saved in directory:\n",
      "│ \t /var/folders/0n/rxl1scks0f19tnxt9pgjcs_40000gp/T/jl_PwxMvL\n",
      "└ @ Luxor /Users/pete/.julia/dev/Luxor/src/animate.jl:192\n",
      "┌ Info: GIF is: images/bezier/circlefrombezier.gif\n",
      "└ @ Luxor /Users/pete/.julia/dev/Luxor/src/animate.jl:207\n"
     ]
    },
    {
     "data": {
      "text/plain": [
       "true"
      ]
     },
     "execution_count": 13,
     "metadata": {},
     "output_type": "execute_result"
    }
   ],
   "source": [
    "function frame(scene, framenumber)\n",
    "    background(\"white\")\n",
    "    eased_n = scene.easingfunction(framenumber, 0, 1, scene.framerange.stop)\n",
    "\n",
    "    radius = 250\n",
    "    setline(1)\n",
    "    sethue(\"black\")\n",
    "    kappa = rescale(eased_n, 0, 1, 0.525, 0.575)\n",
    "\n",
    "    handlelength = (radius/2)  * kappa\n",
    "\n",
    "    left   = Point(-radius/2, 0)\n",
    "    top    = Point(0,        -radius/2)\n",
    "    right  = Point(radius/2,  0)\n",
    "    bottom = Point(0,         radius/2)\n",
    "\n",
    "    line(left, left + (0, -handlelength), :stroke)\n",
    "    line(top + (-handlelength, 0), top, :stroke)\n",
    "    circle.([left, top, right, bottom], 2, :fill)\n",
    "    circle.([left + (0, -handlelength), top + (-handlelength, 0)], 2, :fill)\n",
    "\n",
    "    line(left, left + (0, -handlelength), :stroke)\n",
    "    line(top + (-handlelength, 0), top, :stroke)\n",
    "    circle.([left, top, right, bottom], 2, :fill)\n",
    "    circle.([left + (0, -handlelength), top + (-handlelength, 0)], 2, :fill)\n",
    "\n",
    "    move(left)\n",
    "    curve(left   + (0, -handlelength),\n",
    "          top    + (-handlelength, 0),\n",
    "          top)\n",
    "    curve(top    + (handlelength, 0),\n",
    "          right  + (0, -handlelength),\n",
    "          right)\n",
    "    curve(right  + (0, handlelength),\n",
    "          bottom + (handlelength, 0),\n",
    "          bottom)\n",
    "    curve(bottom + (-handlelength, 0),\n",
    "          left   + (0, handlelength),\n",
    "          left)\n",
    "\n",
    "    if isapprox(kappa, 0.55228, atol=0.001)\n",
    "        sethue(\"red\")\n",
    "        fillpath()\n",
    "        sethue(\"black\")\n",
    "    else\n",
    "        strokepath()\n",
    "    end\n",
    "    fontface(\"Menlo\")\n",
    "    fontsize(20)\n",
    "    text(string(round(kappa, digits=4)), halign=:center)\n",
    "end\n",
    "width, height = (400, 400)\n",
    "circlefrombezier = Movie(width, height, \"circlefrombezier\")\n",
    "animate(circlefrombezier, [Scene(circlefrombezier, frame, 1:150, easingfunction=easeoutquad)], creategif=true, framerate=30, pathname=\"images/bezier/circlefrombezier.gif\")"
   ]
  },
  {
   "cell_type": "markdown",
   "metadata": {},
   "source": [
    "# ![kappa value animation](notebooks/images/bezier/circlefrombezier.gif)"
   ]
  },
  {
   "cell_type": "markdown",
   "metadata": {},
   "source": [
    "Luxor already provides a `Luxor.circlepath()` function that uses four Bézier curve segments to build a path that draws a circle. The main advantage of using this instead of the default `arc`-based circle is that it's easier to build circles with holes:"
   ]
  },
  {
   "cell_type": "code",
   "execution_count": 14,
   "metadata": {},
   "outputs": [],
   "source": [
    "@png begin\n",
    "    background(\"moccasin\")\n",
    "    sethue(\"darkorange\")\n",
    "    circlepath(O, 200, :path)\n",
    "\n",
    "    newsubpath()\n",
    "    circlepath(O + (100, -40), 70, :path, reversepath=true)\n",
    "\n",
    "    newsubpath()\n",
    "    circlepath(O - (100, 40), 70, :path, reversepath=true)\n",
    "\n",
    "    fillpreserve()\n",
    "    setline(8)\n",
    "    sethue(\"skyblue\")\n",
    "    strokepath()\n",
    "end 800 500 \"images/bezier/circularpaths.png\""
   ]
  },
  {
   "cell_type": "markdown",
   "metadata": {},
   "source": [
    "![circular paths](notebooks/images/bezier/circularpaths.png)"
   ]
  },
  {
   "cell_type": "markdown",
   "metadata": {},
   "source": [
    "## Detour into Typomania"
   ]
  },
  {
   "cell_type": "markdown",
   "metadata": {},
   "source": [
    "In practice, not being able to draw perfect circles with Bezier curves isn't a big problem. Font designers (you knew this was going to go ‘all typographical’ sooner or later) are big users of Bézier curves, and typically they don't like drawing perfect circles anyway, because of the optical corrections required to make things ‘look right’."
   ]
  },
  {
   "cell_type": "markdown",
   "metadata": {},
   "source": [
    "There are a number of optical illusions that demonstrate that the human eye and the brain don't always see reality accurately. The following is one of the simplest, but most people would be prepared to bet that the horizontal bar is thicker and shorter than the vertical bar. I had to draw a grid to double-check..."
   ]
  },
  {
   "cell_type": "code",
   "execution_count": 15,
   "metadata": {},
   "outputs": [],
   "source": [
    "@png begin\n",
    "    background(\"white\")\n",
    "\n",
    "    sethue(\"gray90\")\n",
    "    g = GridRect(BoundingBox()[1], 15, 15, 30 * 20, 30 * 20)\n",
    "    for i in 1:1600\n",
    "        circle(nextgridpoint(g), 0.5, :fill)\n",
    "    end\n",
    "\n",
    "    b = box(O - (15, -60), O + (15, -60), vertices=true)\n",
    "\n",
    "    sethue(\"black\")\n",
    "    poly(b, :fill)\n",
    "    translate(0, -90)\n",
    "    rotate(pi/2)\n",
    "    poly(b, :fill)\n",
    "\n",
    "end 300 300 \"images/bezier/opticalillusion.png\""
   ]
  },
  {
   "cell_type": "markdown",
   "metadata": {},
   "source": [
    "![simple illusion](notebooks/images/bezier/opticalillusion.png)"
   ]
  },
  {
   "cell_type": "markdown",
   "metadata": {},
   "source": [
    "It's something to do with how our eyes, set side by side and trained to move side to side horizontally with great speed and precision, underestimate width. Type designers spend much of their time adjusting the relative widths and thicknesses of letter shapes so that illusions like this are compensated for in advance. What happens if you turn your display on its side (apart from possibly spilling your coffee)?"
   ]
  },
  {
   "cell_type": "markdown",
   "metadata": {},
   "source": [
    "Here's a short script to examine the bounding boxes of the inner and outer loops of the letter ‘o’ in various fonts."
   ]
  },
  {
   "cell_type": "code",
   "execution_count": 16,
   "metadata": {},
   "outputs": [],
   "source": [
    "function drawletteraspect(pos, font, thefontsize, str)\n",
    "    @layer begin\n",
    "        translate(pos)\n",
    "        translate(-thefontsize/3, 0)\n",
    "        fontsize(thefontsize)\n",
    "        fontface(font)\n",
    "        sethue(\"gray40\")\n",
    "        setline(0.5)\n",
    "        text(str)\n",
    "        newpath()\n",
    "        textpath(str)\n",
    "        o = pathtopoly()\n",
    "        @layer begin\n",
    "            fontsize(thefontsize/20)\n",
    "            text(font, Point(0, thefontsize/15))\n",
    "            sethue(\"magenta\")\n",
    "            fontface(\"Cousine-Bold\")\n",
    "            n = 0\n",
    "            for i in o\n",
    "                b = BoundingBox(i)\n",
    "                text(string(round(boxaspectratio(b), digits = 4)), midpoint(b...) + (0, n), halign=:center)\n",
    "                n += thefontsize/20\n",
    "                box(b, :stroke)\n",
    "            end\n",
    "        end\n",
    "    end\n",
    "end\n",
    "\n",
    "@png begin\n",
    "    fonts = [\n",
    "        \"ArialUnicodeMS\",\n",
    "        \"AvantGarde-Book\",\n",
    "        \"BauhausLT-Light\",\n",
    "        \"CircularStd-Book\",\n",
    "        \"Cousine\",\n",
    "        \"FuturaLT-Book\",\n",
    "        \"GillSansMTPro-Book\",\n",
    "        \"GothamBlack\",\n",
    "        \"Helvetica\",\n",
    "        \"KabelLTStd-Light\",\n",
    "        \"ProximaNova-Bold\",\n",
    "        \"Times-Roman\",\n",
    "    ]\n",
    "    tiles = Tiler(800, 400, 3, 4, margin=40)\n",
    "    for (pos, n) in tiles\n",
    "        drawletteraspect(pos, fonts[mod1(n, length(fonts))], 150, \"o\")\n",
    "    end\n",
    "end 800 400 \"images/bezier/drawletteraspect.png\""
   ]
  },
  {
   "cell_type": "markdown",
   "metadata": {},
   "source": [
    "![aspect ratios of letter O](notebooks/images/bezier/drawletteraspect.png)"
   ]
  },
  {
   "cell_type": "markdown",
   "metadata": {},
   "source": [
    "The fonts on your system will be different, of course."
   ]
  },
  {
   "cell_type": "markdown",
   "metadata": {},
   "source": [
    "## The story of “o”"
   ]
  },
  {
   "cell_type": "markdown",
   "metadata": {},
   "source": [
    "I wondered which fonts used the most circular circles for the letter “o”. This script wanders through all the fonts registered with Fontconfig and stores the bounding boxes of the letter “o”, then finds “the most circular”."
   ]
  },
  {
   "cell_type": "code",
   "execution_count": 17,
   "metadata": {},
   "outputs": [
    {
     "data": {
      "text/plain": [
       "true"
      ]
     },
     "execution_count": 17,
     "metadata": {},
     "output_type": "execute_result"
    }
   ],
   "source": [
    "using Fontconfig, Luxor, DataFrames\n",
    "\n",
    "function buildfontlist()\n",
    "    fonts = []\n",
    "    for font in Fontconfig.list()\n",
    "        families = Fontconfig.format(font, \"%{family}\")\n",
    "        for family in split(families, \",\")\n",
    "            push!(fonts, family)\n",
    "        end\n",
    "    end\n",
    "    filter!(font -> !startswith(font, \".\"), fonts)\n",
    "    filter!(font -> !occursin(r\"Wing.*\", font), fonts)\n",
    "    filter!(font -> !occursin(r\".*Extra\", font), fonts)\n",
    "    filter!(font -> !occursin(r\".*Expert\", font), fonts)\n",
    "    return sort(unique(fonts))\n",
    "end\n",
    "\n",
    "mutable struct Score\n",
    "    fontname::String\n",
    "    bbox1::BoundingBox\n",
    "    bbox2::BoundingBox\n",
    "end\n",
    "\n",
    "scores = Score[]\n",
    "\n",
    "# we have to have a drawing open, otherwise textpath() doesn't know where to turn\n",
    "\n",
    "Drawing(100, 100, \"/tmp/emptydrawing.png\")\n",
    "fontlist = unique(buildfontlist())\n",
    "fontsize(20)\n",
    "\n",
    "for font in fontlist\n",
    "    fontface(font)\n",
    "    newpath() # !!!!\n",
    "    textpath(\"o\")\n",
    "    o = pathtopoly()\n",
    "    bboxes = BoundingBox[]\n",
    "    for i in o\n",
    "        push!(bboxes, BoundingBox(i))\n",
    "    end\n",
    "    if length(bboxes) == 2\n",
    "        push!(scores, Score(font, bboxes[1], bboxes[2]))\n",
    "    end\n",
    "end\n",
    "finish() # unused drawing"
   ]
  },
  {
   "cell_type": "markdown",
   "metadata": {},
   "source": [
    "To analyse the results, we'll put everything into a DataFrame."
   ]
  },
  {
   "cell_type": "code",
   "execution_count": 18,
   "metadata": {},
   "outputs": [
    {
     "data": {
      "text/html": [
       "<table class=\"data-frame\"><thead><tr><th></th><th>Fontname</th><th>Outer</th><th>Inner</th><th>Total</th><th>Mean</th></tr><tr><th></th><th>String</th><th>Float64</th><th>Float64</th><th>Float64</th><th>Float64</th></tr></thead><tbody><p>934 rows × 5 columns</p><tr><th>1</th><td>Avenir Heavy</td><td>0.965208</td><td>1.02078</td><td>0.00700837</td><td>0.992992</td></tr><tr><th>2</th><td>BaseMono</td><td>0.983922</td><td>0.994451</td><td>0.0108139</td><td>0.989186</td></tr><tr><th>3</th><td>Courier New</td><td>0.988927</td><td>0.986501</td><td>0.0122864</td><td>0.987714</td></tr><tr><th>4</th><td>Bauhaus 93</td><td>0.989703</td><td>1.03878</td><td>-0.0142418</td><td>1.01424</td></tr><tr><th>5</th><td>Avenir Black</td><td>0.944304</td><td>1.02522</td><td>0.0152362</td><td>0.984764</td></tr><tr><th>6</th><td>Avenir Light</td><td>0.999598</td><td>1.03255</td><td>-0.0160745</td><td>1.01607</td></tr><tr><th>7</th><td>Avenir Next Heavy</td><td>0.943359</td><td>1.02386</td><td>0.0163885</td><td>0.983612</td></tr><tr><th>8</th><td>Avenir Black Oblique</td><td>0.936178</td><td>1.02522</td><td>0.0192992</td><td>0.980701</td></tr><tr><th>9</th><td>Century Gothic</td><td>1.00989</td><td>1.03113</td><td>-0.0205095</td><td>1.02051</td></tr><tr><th>10</th><td>AvenirNext LT Pro Bold</td><td>0.958672</td><td>1.08444</td><td>-0.0215545</td><td>1.02155</td></tr><tr><th>11</th><td>Avenir</td><td>1.0531</td><td>0.990173</td><td>-0.0216352</td><td>1.02164</td></tr><tr><th>12</th><td>Avenir Book</td><td>1.0531</td><td>0.990173</td><td>-0.0216352</td><td>1.02164</td></tr><tr><th>13</th><td>Avenir Next Ultra Light</td><td>1.01462</td><td>1.02949</td><td>-0.0220535</td><td>1.02205</td></tr><tr><th>14</th><td>Avenir Medium</td><td>1.05761</td><td>0.987602</td><td>-0.0226049</td><td>1.0226</td></tr><tr><th>15</th><td>Avenir Next</td><td>0.98591</td><td>1.06161</td><td>-0.0237581</td><td>1.02376</td></tr><tr><th>16</th><td>Avenir Next LT Pro</td><td>0.98591</td><td>1.06161</td><td>-0.0237581</td><td>1.02376</td></tr><tr><th>17</th><td>AvenirNext LT Pro Regular</td><td>0.98591</td><td>1.06161</td><td>-0.0237581</td><td>1.02376</td></tr><tr><th>18</th><td>Agenda</td><td>0.987414</td><td>1.06049</td><td>-0.0239501</td><td>1.02395</td></tr><tr><th>19</th><td>Gill Sans</td><td>0.956362</td><td>0.986928</td><td>0.0283549</td><td>0.971645</td></tr><tr><th>20</th><td>Heiti SC</td><td>1.01837</td><td>1.04153</td><td>-0.0299485</td><td>1.02995</td></tr><tr><th>21</th><td>Heiti TC</td><td>1.01837</td><td>1.04153</td><td>-0.0299485</td><td>1.02995</td></tr><tr><th>22</th><td>Snell Roundhand</td><td>0.646213</td><td>1.29301</td><td>0.030387</td><td>0.969613</td></tr><tr><th>23</th><td>Avenir Next Medium</td><td>0.978593</td><td>1.08529</td><td>-0.0319419</td><td>1.03194</td></tr><tr><th>24</th><td>Rockwell</td><td>1.0058</td><td>1.06168</td><td>-0.0337369</td><td>1.03374</td></tr><tr><th>&vellip;</th><td>&vellip;</td><td>&vellip;</td><td>&vellip;</td><td>&vellip;</td><td>&vellip;</td></tr></tbody></table>"
      ],
      "text/plain": [
       "934×5 DataFrame. Omitted printing of 1 columns\n",
       "│ Row │ Fontname                         │ Outer    │ Inner    │ Total      │\n",
       "│     │ \u001b[90mString\u001b[39m                           │ \u001b[90mFloat64\u001b[39m  │ \u001b[90mFloat64\u001b[39m  │ \u001b[90mFloat64\u001b[39m    │\n",
       "├─────┼──────────────────────────────────┼──────────┼──────────┼────────────┤\n",
       "│ 1   │ Avenir Heavy                     │ 0.965208 │ 1.02078  │ 0.00700837 │\n",
       "│ 2   │ BaseMono                         │ 0.983922 │ 0.994451 │ 0.0108139  │\n",
       "│ 3   │ Courier New                      │ 0.988927 │ 0.986501 │ 0.0122864  │\n",
       "│ 4   │ Bauhaus 93                       │ 0.989703 │ 1.03878  │ -0.0142418 │\n",
       "│ 5   │ Avenir Black                     │ 0.944304 │ 1.02522  │ 0.0152362  │\n",
       "│ 6   │ Avenir Light                     │ 0.999598 │ 1.03255  │ -0.0160745 │\n",
       "│ 7   │ Avenir Next Heavy                │ 0.943359 │ 1.02386  │ 0.0163885  │\n",
       "⋮\n",
       "│ 927 │ Apple Braille                    │ 2.49963  │ 2.99707  │ -1.74835   │\n",
       "│ 928 │ Baghdad                          │ 2.44792  │ 3.17188  │ -1.8099    │\n",
       "│ 929 │ Nadeem                           │ 2.44792  │ 3.17188  │ -1.8099    │\n",
       "│ 930 │ Wilhelm Klingspor Gotisch LT Std │ 2.02057  │ 3.68609  │ -1.85333   │\n",
       "│ 931 │ KufiStandardGK                   │ 2.51563  │ 3.27344  │ -1.89453   │\n",
       "│ 932 │ Diwan Kufi                       │ 3.71094  │ 5.06641  │ -3.38867   │\n",
       "│ 933 │ Bernard MT Condensed             │ 1.5877   │ 7.55733  │ -3.57252   │\n",
       "│ 934 │ Impact                           │ 1.4851   │ 7.6678   │ -3.57645   │"
      ]
     },
     "execution_count": 18,
     "metadata": {},
     "output_type": "execute_result"
    }
   ],
   "source": [
    "using Statistics\n",
    "df = DataFrame(\n",
    "    Fontname = String[],  # font name\n",
    "    Outer    = Float64[], # outer aspect ratio\n",
    "    Inner    = Float64[], # inner loop aspect ratio\n",
    "    Total    = Float64[],\n",
    "    Mean     = Float64[]\n",
    "    )\n",
    "\n",
    "for f in scores\n",
    "    push!(df, [f.fontname,\n",
    "               boxaspectratio(f.bbox1),\n",
    "               boxaspectratio(f.bbox2),\n",
    "               1 - (boxaspectratio(f.bbox1) + boxaspectratio(f.bbox2))/2,\n",
    "               mean([boxaspectratio(f.bbox1),\n",
    "                     boxaspectratio(f.bbox2)])\n",
    "              ])\n",
    "end\n",
    "\n",
    "sort!(df, :Total, lt = (a, b) -> abs(a) < abs(b))"
   ]
  },
  {
   "cell_type": "markdown",
   "metadata": {},
   "source": [
    "Few typefaces are perfectly circular. Even [Circular](http://typographica.org/typeface-reviews/ll-circular/), LineTo's trendy geometric sans typeface, isn't perfectly circular."
   ]
  },
  {
   "cell_type": "markdown",
   "metadata": {},
   "source": [
    "Most of the least circular ones, according to this rough examination, are in the Condensed and Compressed sections of the font libraries. No surprise, Sherlock."
   ]
  },
  {
   "cell_type": "code",
   "execution_count": 19,
   "metadata": {},
   "outputs": [],
   "source": [
    "display(df[end-10:end, :])\n",
    "\n",
    "\n",
    "t = Table(2, 5, 170, 140)\n",
    "@png begin\n",
    "    for (n, f) in enumerate(df[end-9:end, 1])\n",
    "        fontsize(60)\n",
    "        fontface(f)\n",
    "        text(\"O\", t[n], halign=:center)\n",
    "        fontsize(14)\n",
    "        text(f, t[n] + (0, 40), halign=:center)\n",
    "    end\n",
    "end 800 250 \"images/bezier/leastcircularfonts.png\""
   ]
  },
  {
   "cell_type": "markdown",
   "metadata": {},
   "source": [
    "![some of the least circular fonts](notebooks/images/bezier/leastcircularfonts.png)"
   ]
  },
  {
   "cell_type": "markdown",
   "metadata": {},
   "source": [
    "The most circular ones on my computer are the classic geometric sans serif fonts."
   ]
  },
  {
   "cell_type": "code",
   "execution_count": 20,
   "metadata": {},
   "outputs": [],
   "source": [
    "display(df[1:10, :])\n",
    "\n",
    "\n",
    "t = Table(2, 5, 160, 140)\n",
    "@png begin\n",
    "    for (n, f) in enumerate(df[1:10, 1])\n",
    "        fontsize(50)\n",
    "        fontface(f)\n",
    "        text(\"O\", t[n], halign=:center)\n",
    "        fontsize(11)\n",
    "        text(f, t[n] + (0, 50), halign=:center)\n",
    "    end\n",
    "end 800 300 \"images/bezier/mostcircularfonts.png\""
   ]
  },
  {
   "cell_type": "markdown",
   "metadata": {},
   "source": [
    "![the most circular fonts](notebooks/images/bezier/mostcircularfonts.png)"
   ]
  },
  {
   "cell_type": "markdown",
   "metadata": {},
   "source": [
    "In the ‘most circular o’ fonts, there are a few examples from Rudolf Koch's Kabel family."
   ]
  },
  {
   "cell_type": "code",
   "execution_count": 21,
   "metadata": {},
   "outputs": [
    {
     "name": "stdout",
     "output_type": "stream",
     "text": [
      "┌ Warning: `getindex(df::DataFrame, col_ind::ColumnIndex)` is deprecated, use `df[!, col_ind]` instead.\n",
      "│   caller = top-level scope at string:1\n",
      "└ @ Core string:1\n"
     ]
    }
   ],
   "source": [
    "kabel = df[[occursin(r\".*Kabel.*\", fontname) for fontname in df[:Fontname]], :]\n",
    "\n",
    "\n",
    "# that's v0.6 syntax... v0.7 is df[[occursin(r\".*Kabel.*\", fname) for fname  in df[:Name]], :]\n",
    "\n",
    "t = Table(2, 5, 160, 140)\n",
    "@png begin\n",
    "    for (n, f) in enumerate(kabel[:, 1])\n",
    "        fontsize(50)\n",
    "        fontface(f)\n",
    "        text(\"O\", t[n], halign=:center)\n",
    "        fontsize(11)\n",
    "        text(f, t[n] + (0, 50), halign=:center)\n",
    "    end\n",
    "end 800 300 \"images/bezier/kabelfonts.png\""
   ]
  },
  {
   "cell_type": "markdown",
   "metadata": {},
   "source": [
    "![Kabel fonts](notebooks/images/bezier/kabelfonts.png)"
   ]
  },
  {
   "cell_type": "markdown",
   "metadata": {},
   "source": [
    "Here's Wikipedia:"
   ]
  },
  {
   "cell_type": "markdown",
   "metadata": {},
   "source": [
    "> Kabel belongs to the \"geometric\" style of sans-serifs, which was becoming popular in Germany at the time of Kabel's creation [1920s]. Based loosely on the structure of the circle and straight lines, it nonetheless applies a number of unusual design decisions, such as a delicately low x-height (although larger in the bold weight), a quirky tilted 'e' and irregularly angled terminals, to add delicacy and an irregularity suggesting stylish calligraphy, of which Koch was an expert."
   ]
  },
  {
   "cell_type": "markdown",
   "metadata": {},
   "source": [
    "Eye magazine [isn't convinced](http://eyemagazine.com/feature/article/expressive-geometry) by the apparent geometrical precision of Kabel:"
   ]
  },
  {
   "cell_type": "markdown",
   "metadata": {},
   "source": [
    ">its eccentricities reveal Koch’s unwavering expressionistic and humanist instincts"
   ]
  },
  {
   "cell_type": "markdown",
   "metadata": {},
   "source": [
    "But at least the ‘o’s are circular..."
   ]
  },
  {
   "cell_type": "markdown",
   "metadata": {},
   "source": [
    "## Curvy"
   ]
  },
  {
   "cell_type": "markdown",
   "metadata": {},
   "source": [
    "Moving back to Bézier curves, you can summarize the behaviour of a Bézier curve at a point by finding the curvature. The Luxor function `beziercurvature()` returns a number, called `kappa`, that varies and flips from positive to negative as the Bézier path varies in ‘curviness’. We're using the first and second derivatives to find the kappa value:"
   ]
  },
  {
   "cell_type": "markdown",
   "metadata": {},
   "source": [
    "$\n",
    " \\begin{equation}\n",
    " \\kappa = \\frac{\\mid \\dot{x}\\ddot{y}-\\dot{y}\\ddot{x}\\mid}\n",
    "    {(\\dot{x}^2 + \\dot{y}^2)^{\\frac{3}{2}}}\n",
    " \\end{equation}\n",
    "$"
   ]
  },
  {
   "cell_type": "markdown",
   "metadata": {},
   "source": [
    " The following `drawcurvature()` function uses the kappa value to work out the slope, and draw a perpendicular to the curve, with lengths varying according to the value of kappa, indicating the way the curvature changes."
   ]
  },
  {
   "cell_type": "markdown",
   "metadata": {},
   "source": [
    "(This is another *kappa*, by the way, no relation to the Bézier circularity kappa. Or indeed to the Lancia Kappa..."
   ]
  },
  {
   "cell_type": "markdown",
   "metadata": {},
   "source": [
    "# ![Lancia Kappa from Wikimedia Commons](notebooks/images/bezier/2880px-Lancia_Kappa_front_20110130.jpg)"
   ]
  },
  {
   "cell_type": "markdown",
   "metadata": {},
   "source": [
    "[Photograph by Rudolf Stricker](https://commons.wikimedia.org/wiki/File:Lancia_Kappa_front_20110130.jpg)"
   ]
  },
  {
   "cell_type": "markdown",
   "metadata": {},
   "source": [
    "...or to many of the other things called kappa, such as the curvature of the universe, the torsional constant of an oscillator, Einstein's constant of gravitation, the coupling coefficient in magnetostatics—and that's just in physics.)"
   ]
  },
  {
   "cell_type": "code",
   "execution_count": 22,
   "metadata": {},
   "outputs": [
    {
     "data": {
      "text/plain": [
       "drawcurvature (generic function with 1 method)"
      ]
     },
     "execution_count": 22,
     "metadata": {},
     "output_type": "execute_result"
    }
   ],
   "source": [
    "function drawcurvature(bezpathsegment::BezierPathSegment;\n",
    "        scale=500,\n",
    "        stepby=0.01,\n",
    "        colors=[\"purple\", \"green\"])\n",
    "    p1, cp1, cp2, p2 = bezpathsegment\n",
    "    for u in 0:stepby:1\n",
    "        pt = bezier(u, p1, cp1, cp2, p2)\n",
    "        kappa = beziercurvature(u, p1, cp1, cp2, p2)\n",
    "        # comb lines are perpendiculars\n",
    "        @layer begin\n",
    "            pt1 = bezier′(u, p1, cp1, cp2, p2)\n",
    "            # slope of curve at t = y′(t)/x′(t)\n",
    "            # normal is 1/slope\n",
    "            s = -1/(pt1.y/pt1.x)\n",
    "            sign(kappa) >= 0 ? sethue(colors[1]) : sethue(colors[2])\n",
    "            len = scale * abs(kappa)\n",
    "            line(pt - polar(len, atan(s)), pt + polar(len, atan(s)), :stroke)\n",
    "        end\n",
    "    end\n",
    "end"
   ]
  },
  {
   "cell_type": "markdown",
   "metadata": {},
   "source": [
    "Here it is in action:"
   ]
  },
  {
   "cell_type": "code",
   "execution_count": 23,
   "metadata": {},
   "outputs": [],
   "source": [
    "@png begin\n",
    "    p1  = Point(-150, 0)\n",
    "    cp1 = Point(-50, -200)\n",
    "    cp2 = Point(150, 200)\n",
    "    p2  = Point(250, -150)\n",
    "    setline(0.1)\n",
    "    for u in 0:0.025:1\n",
    "        pt = bezier(u, p1, cp1, cp2, p2)\n",
    "        circle(pt, 2, :fill)\n",
    "    end\n",
    "    sethue(\"red\")\n",
    "    circle.([p1, cp1, cp2, p2], 3, :fill)\n",
    "    setline(1)\n",
    "    line(p1, cp1, :stroke)\n",
    "    line(p2, cp2, :stroke)\n",
    "    sethue(\"black\")\n",
    "    fontsize(6)\n",
    "    setline(0.5)\n",
    "    drawcurvature(BezierPathSegment(p1, cp1, cp2, p2),\n",
    "        scale=1500,\n",
    "        stepby=0.005)\n",
    "end 600 500 \"images/bezier/drawcurvaturecomb.png\""
   ]
  },
  {
   "cell_type": "markdown",
   "metadata": {},
   "source": [
    "![drawing the curvature comb](notebooks/images/bezier/drawcurvaturecomb.png)"
   ]
  },
  {
   "cell_type": "markdown",
   "metadata": {},
   "source": [
    "Users of CAD systems (particularly industrial designers) like to display these *curvature combs* (in both 2D and 3D) to make sure that their shapes don't introduce noticeably abrupt (and possible weak) transitions. Type designers use them too, but as usual they like to let their eyes have the final say."
   ]
  },
  {
   "cell_type": "code",
   "execution_count": 24,
   "metadata": {},
   "outputs": [],
   "source": [
    "@png begin\n",
    "    background(\"gray30\")\n",
    "    fontface(\"Times-BoldItalic\")\n",
    "    translate(-250, 80)\n",
    "    fontsize(300)\n",
    "    textpath(\"julia\")\n",
    "    bpaths = pathtobezierpaths()\n",
    "    sethue(\"gray60\")\n",
    "    for bpath in bpaths\n",
    "        for bpseg in bpath\n",
    "            setline(0.5)\n",
    "            drawbezierpath(bpseg, :stroke)\n",
    "            setline(0.25)\n",
    "            drawcurvature(bpseg,\n",
    "                scale=180,\n",
    "                stepby=0.05,\n",
    "                colors=[\"gold\", \"cyan\"])\n",
    "        end\n",
    "    end\n",
    "end 800 500 \"images/bezier/typecomb.png\""
   ]
  },
  {
   "cell_type": "markdown",
   "metadata": {},
   "source": [
    "![curvature comb for the g](notebooks/images/bezier/typecomb.png)"
   ]
  },
  {
   "cell_type": "markdown",
   "metadata": {},
   "source": [
    "The dots over the ‘i’ and ‘j’ don't look like perfect circles; these are defined by 8 points, not 4, for some reason."
   ]
  },
  {
   "cell_type": "markdown",
   "metadata": {},
   "source": [
    "### Osculate my Béziers"
   ]
  },
  {
   "cell_type": "markdown",
   "metadata": {},
   "source": [
    "The value of kappa is typically very small, so the *radius of curvature*, which is defined as $$\\frac{1}{kappa}$$, can become very large. This radius value defines a circle that just touches the curve and follows the curvature at that point. Mathematicians, in typically romantic mood, call it the *osculating circle*, *osculate* being from the Latin noun *osculum*, meaning \"kiss\"."
   ]
  },
  {
   "cell_type": "markdown",
   "metadata": {},
   "source": [
    "Drawing osculating circles can be a challenge; they grow very large when the curve looks flat. To be honest it's a tricky diagram to style up, and there's a lot of information that it would be cool to keep and a shame to throw away. There's quite a bit of osculation going on here..."
   ]
  },
  {
   "cell_type": "code",
   "execution_count": 25,
   "metadata": {},
   "outputs": [],
   "source": [
    "@png begin\n",
    "    p1  = Point(-400, 60)\n",
    "    cp1 = Point(-300, -400)\n",
    "    cp2 = Point(250, 300)\n",
    "    p2  = Point(200, -100)\n",
    "    background(\"pink\")\n",
    "    scale(0.75)\n",
    "    for u in 0:0.001:1\n",
    "        pt = bezier(u, p1, cp1, cp2, p2)\n",
    "        circle(pt, 4, :fill)\n",
    "    end\n",
    "    sethue(\"red\")\n",
    "    circle.([p1, cp1, cp2, p2], 5, :fill)\n",
    "    setline(2)\n",
    "    line(p1, cp1, :stroke)\n",
    "    line(p2, cp2, :stroke)\n",
    "    setopacity(0.1) ; setline(1.5) ; fontsize(5)\n",
    "    for pointofcontact in 0.0:0.015:1.0\n",
    "        kappa = beziercurvature(pointofcontact, p1, cp1, cp2, p2)\n",
    "        pt = bezier(pointofcontact, p1, cp1, cp2, p2)\n",
    "        @layer begin\n",
    "            setopacity(1.0)\n",
    "            sethue(\"black\")\n",
    "            circle(pt, 5, :fill)\n",
    "        end\n",
    "        pt1 = bezier′(pointofcontact, p1, cp1, cp2, p2)\n",
    "        s = -1/(pt1.y/pt1.x) # normal is 1/slope\n",
    "        radius = abs(1/kappa)\n",
    "        centrepoint = pt + polar(radius, atan(s))\n",
    "        if radius < 600\n",
    "            sign(kappa) >= 0 ? sethue(\"plum1\") : sethue(\"mediumpurple\")\n",
    "            circle(centrepoint, radius, :fill)\n",
    "            @layer begin\n",
    "                setopacity(1)\n",
    "                setline(0.25)\n",
    "                sethue(\"black\")\n",
    "                fontsize(12)\n",
    "                circle(centrepoint, radius, :stroke)\n",
    "                circle(centrepoint, 2, :fill)\n",
    "                line(centrepoint, pt, :stroke)\n",
    "                text(string(round(1/kappa, digits = 2)), centrepoint)\n",
    "            end\n",
    "        else\n",
    "            text(\"too big\", pt)\n",
    "        end\n",
    "    end\n",
    "end 800 800 \"images/bezier/osculate.png\""
   ]
  },
  {
   "cell_type": "markdown",
   "metadata": {},
   "source": [
    "![osculating](notebooks/images/bezier/osculate.png)"
   ]
  },
  {
   "cell_type": "markdown",
   "metadata": {},
   "source": [
    "## A blot on the landscape"
   ]
  },
  {
   "cell_type": "markdown",
   "metadata": {},
   "source": [
    "Bézier curves became popular because they allow us to specify gently curving shapes that would be impractical and cumbersome to specify with circular arcs. The Comprehensive Taxonomy of Irregular Amoeboid Shapes is perhaps still waiting to be written, but here's my contribution to the ‘random ink blot’ chapter. Sometimes you'll get lucky and get a nice one."
   ]
  },
  {
   "cell_type": "code",
   "execution_count": 26,
   "metadata": {},
   "outputs": [],
   "source": [
    "function blot(;pos=O, radius=50, npoints=10, action=:fill)\n",
    "    center = pos\n",
    "    pts = ngon(pos, radius, npoints, vertices=true)\n",
    "    for i in 1:length(pts)\n",
    "        pts[i] = pts[i] + (rand(-radius/3:radius/3), rand(-radius/3:radius/3))\n",
    "    end\n",
    "    bezpath = makebezierpath(pts)\n",
    "    for n in 1:length(bezpath)\n",
    "        bezseg = bezpath[mod1(n, length(bezpath))]\n",
    "        if isodd(n)\n",
    "            j = rand(1.4:0.1:7)\n",
    "            bezseg.cp1 = between(center, bezseg.p1, j)\n",
    "            bezseg.cp2 = between(center, bezseg.p2, j)\n",
    "        else\n",
    "            j = rand(0.25:0.1:0.7)\n",
    "            bezseg.cp1 = between(center, bezseg.p1, j)\n",
    "            bezseg.cp2 = between(center, bezseg.p2, j)\n",
    "        end\n",
    "    end\n",
    "    drawbezierpath(bezpath, action)\n",
    "    return bezpath\n",
    "end\n",
    "\n",
    "@png begin\n",
    "    sethue(\"midnightblue\")\n",
    "    blot(npoints=10)\n",
    "    circle.([Point(rand(-200:200), rand(-200:200)) for i in 1:15], rand(1:0.1:15, 15), :fill)\n",
    "end 800 500 \"images/bezier/blot.png\""
   ]
  },
  {
   "cell_type": "markdown",
   "metadata": {},
   "source": [
    "![blot](notebooks/images/bezier/blot.png)"
   ]
  },
  {
   "cell_type": "markdown",
   "metadata": {},
   "source": [
    "The control handles of alternate points are positioned on a line from the center to the point."
   ]
  },
  {
   "cell_type": "markdown",
   "metadata": {},
   "source": [
    "You could analyse the curvature of these blobs, if you really wanted to, using the `drawcurvature()` function from earlier:"
   ]
  },
  {
   "cell_type": "code",
   "execution_count": 27,
   "metadata": {},
   "outputs": [],
   "source": [
    "@png begin\n",
    "    pl = box(BoundingBox(), vertices=true)\n",
    "    mesh1 = mesh(pl, [\"purple\", \"blue\", \"yellow\", \"orange\"])\n",
    "    setmesh(mesh1)\n",
    "    paint()\n",
    "    setopacity(0.8)\n",
    "    sethue(\"orange\")\n",
    "    setline(5)\n",
    "    b = blot(radius=80, npoints=8, action=:stroke)\n",
    "    drawbezierpath(b, :fill)\n",
    "    setline(.25)\n",
    "    drawcurvature.(b, colors=[\"white\", \"black\"])\n",
    "end 800 500 \"images/bezier/blobcomb.png\""
   ]
  },
  {
   "cell_type": "markdown",
   "metadata": {},
   "source": [
    "![blob comb](notebooks/images/bezier/blobcomb.png)"
   ]
  },
  {
   "cell_type": "markdown",
   "metadata": {},
   "source": [
    "## A brush in the rough"
   ]
  },
  {
   "cell_type": "markdown",
   "metadata": {},
   "source": [
    "Not all lines generated by computers have to be rigidly straight and precise. What if we could easily make graphics that are a bit more relaxed in style, rather than the rigid CAD-like (and yes, awesome) precision graphics we're used to?"
   ]
  },
  {
   "cell_type": "code",
   "execution_count": 28,
   "metadata": {},
   "outputs": [],
   "source": [
    "@png begin\n",
    "    t = Table(1, 3)\n",
    "    box(t[1], 160, 160, :stroke)\n",
    "    boxv = box(t[3], 160, 160, vertices=true)\n",
    "    foreach((f, t) ->\n",
    "        brush(f, t, 3),\n",
    "           boxv[1:4],\n",
    "           boxv[mod1.(2:5, 4)])\n",
    "end 800 300 \"images/bezier/lines.png\""
   ]
  },
  {
   "cell_type": "markdown",
   "metadata": {},
   "source": [
    "![rough lines](notebooks/images/bezier/lines.png)"
   ]
  },
  {
   "cell_type": "markdown",
   "metadata": {},
   "source": [
    "## “A line is a breadthless length.” (Euclid)"
   ]
  },
  {
   "cell_type": "markdown",
   "metadata": {},
   "source": [
    "The idea here is that a single line between two points is replaced with some BezierPathSegments that together define a shape that can vary in thickness along its length. This shape can be then filled, and is independent of the set line thickness."
   ]
  },
  {
   "cell_type": "code",
   "execution_count": 29,
   "metadata": {},
   "outputs": [],
   "source": [
    "@png begin\n",
    "    setline(60) # <— pointless\n",
    "    brush(O - (250, 0), O + (250, 0), 4, strokes=1)\n",
    "end 800 50  \"images/bezier/brushline1.png\""
   ]
  },
  {
   "cell_type": "markdown",
   "metadata": {},
   "source": [
    "![brush line](notebooks/images/bezier/brushline1.png)"
   ]
  },
  {
   "cell_type": "markdown",
   "metadata": {},
   "source": [
    "The experimental `brush()` function is bristling with built-in randomness, so you never know what you're going to get. There are some control knobs available which you can play with."
   ]
  },
  {
   "cell_type": "code",
   "execution_count": 30,
   "metadata": {},
   "outputs": [],
   "source": [
    "@png begin\n",
    "    brush(O - (250, 0), O + (250, 0), 5,\n",
    "        strokes=15,\n",
    "        twist=4)\n",
    "end 800 50  \"images/bezier/brushline2.png\""
   ]
  },
  {
   "cell_type": "markdown",
   "metadata": {},
   "source": [
    "![brush line 2](notebooks/images/bezier/brushline2.png)"
   ]
  },
  {
   "cell_type": "markdown",
   "metadata": {},
   "source": [
    "To be honest, I think it's a bit daft to abandon the machine-like precision that our graphics software usually gives us for this variable hand-made look."
   ]
  },
  {
   "cell_type": "code",
   "execution_count": 31,
   "metadata": {},
   "outputs": [],
   "source": [
    "using IterTools\n",
    "@png begin\n",
    "    background(\"gray20\")\n",
    "    sethue(\"ivory\")\n",
    "    for ss in subsets(ngon(O, 250, 13, vertices=true), 2)\n",
    "        # line(ss[1], ss[2], :stroke) # use this line for accurate graphics\n",
    "        brush(ss[1], ss[2], 4,\n",
    "            strokes=1,\n",
    "            minwidth=0.001,\n",
    "            maxwidth=0.05,\n",
    "            lowhandle=0.1,\n",
    "            highhandle=.2,\n",
    "            randomopacity=true)\n",
    "    end\n",
    "end 800 600  \"images/bezier/linepartition.png\""
   ]
  },
  {
   "cell_type": "markdown",
   "metadata": {},
   "source": [
    "![line partition](notebooks/images/bezier/linepartition.png)"
   ]
  },
  {
   "cell_type": "markdown",
   "metadata": {},
   "source": [
    "Today, our relationship with mechanical production and product design is inconsistent; some of the things we desire we want to be hand-made, but others we'd prefer to be machine-made. Only the most expensive cars claim to be made ‘by hand’; the cheaper models flaunt their nanometre precision instead. Hipsters seek the authentic analogue roughness of the products of the Second Industrial age, but are secretly grateful for and rely on the smooth precisions afforded by the Third. Handmade shoes yes, handmode iPhones, no."
   ]
  },
  {
   "cell_type": "markdown",
   "metadata": {},
   "source": [
    "There are a number of plotting packages that offer a hand-drawn aesthetic—[this site](http://xkcdgraphs.com) is web-based. So you can definitely announce your latest scientific discovery using XKCD-style presentation graphics. There are XKCD-styling kits for most of the software used by people who have heard of XKCD."
   ]
  },
  {
   "cell_type": "code",
   "execution_count": 32,
   "metadata": {},
   "outputs": [],
   "source": [
    "@png begin\n",
    "    background(\"bisque\")\n",
    "    sethue(\"gray60\")\n",
    "    setopacity(0.1)\n",
    "    blot(pos=O + (-10, -50), radius=100)\n",
    "    sethue(\"springgreen2\")\n",
    "    brush(O + (20, 270), O + (0, -270), 3) # wonk y-axis\n",
    "    brush(O - (350, 0), O + (350, 10), 3)  # wonk x-axis\n",
    "\n",
    "    sine = [(Point(50x, -200sin(x)), Point(50(x + pi/6), -200sin(x + pi/6))) for x in -2pi:pi/10:2pi]\n",
    "\n",
    "    sethue(\"pink1\")\n",
    "    brush(Point(-300, -200), Point(300, -200), 0.5)\n",
    "\n",
    "    sethue(\"mediumorchid\")\n",
    "    foreach(pr -> brush(pr[1], pr[2], twist=5, highhandle=4, strokes=3), sine)\n",
    "end 800 600 \"images/bezier/graph.png\""
   ]
  },
  {
   "cell_type": "markdown",
   "metadata": {},
   "source": [
    "![a graph](notebooks/images/bezier/graph.png)"
   ]
  },
  {
   "cell_type": "markdown",
   "metadata": {},
   "source": [
    "Unfortunately you've got the imprecise finish *without* the reassuring and lovable hand-made quirks. Like those imitation hand-writing fonts, it's presenting the illusion of manual labour."
   ]
  },
  {
   "cell_type": "code",
   "execution_count": 33,
   "metadata": {},
   "outputs": [],
   "source": [
    "@png begin\n",
    "    fontsize(30)\n",
    "    fontface(\"SnellRoundhand-Script\")\n",
    "    text(\"pint of milk   cat food   stamps   something for dinner? \", halign=:center)\n",
    "end 800 100 \"images/bezier/shoppinglist.png\""
   ]
  },
  {
   "cell_type": "markdown",
   "metadata": {},
   "source": [
    "![a shopping list](notebooks/images/bezier/shoppinglist.png)"
   ]
  },
  {
   "cell_type": "markdown",
   "metadata": {},
   "source": [
    "## A fist full of brushes"
   ]
  },
  {
   "cell_type": "markdown",
   "metadata": {},
   "source": [
    "But it's always fun to explore an idea to see where it leads:"
   ]
  },
  {
   "cell_type": "code",
   "execution_count": 34,
   "metadata": {},
   "outputs": [],
   "source": [
    "@png begin\n",
    "    t = Table(5, 5, 130, 100)\n",
    "    l = t.colwidths[1]\n",
    "    fontsize(4)\n",
    "    for (pos, n) in t\n",
    "        weight = rand(0:2:20)\n",
    "        strokes = rand(1:20)\n",
    "        minwidth=rand(0.0:0.1:0.3)\n",
    "        maxwidth=rand(minwidth+0.1:0.1:minwidth+0.3)\n",
    "        twist = rand(-10:10)\n",
    "        randomopacity = rand(Bool)\n",
    "        lowhandle = rand(0.0:0.1:0.5)\n",
    "        highhandle = rand(lowhandle:0.1:lowhandle+.5)\n",
    "        tidystart = rand(Bool)\n",
    "        @layer begin\n",
    "            translate(pos)\n",
    "            rotate(-0.2)\n",
    "            randomhue()\n",
    "            brush(O - (l/2, 0), O + (l/2, 0), weight,\n",
    "                strokes=strokes,\n",
    "                minwidth=minwidth,\n",
    "                maxwidth=maxwidth,\n",
    "                lowhandle=lowhandle,\n",
    "                highhandle=highhandle,\n",
    "                twist=twist,\n",
    "                randomopacity=randomopacity,\n",
    "                tidystart=tidystart)\n",
    "        end\n",
    "\n",
    "        textwrap(\"weight: $weight\n",
    "            strokes: $strokes\n",
    "            minwidth: $minwidth\n",
    "            maxwidth $maxwidth\n",
    "            twist: $twist\n",
    "            randomopacity: $randomopacity\n",
    "            tidystart :$tidystart\", t.colwidths[1] - 30, pos + (-l/2, 30))\n",
    "    end\n",
    "\n",
    "    sethue(\"black\")\n",
    "    fontsize(30)\n",
    "    fontface(\"Elephant\")\n",
    "    text(\"brush strokes\", boxtop(BoundingBox()) + (0, 40), halign=:center)\n",
    "end 800 600 \"images/bezier/brushes.png\""
   ]
  },
  {
   "cell_type": "markdown",
   "metadata": {},
   "source": [
    "![a catalog of brushes](notebooks/images/bezier/brushes.png)"
   ]
  },
  {
   "cell_type": "markdown",
   "metadata": {},
   "source": [
    "The line quality can make for simple painterly graphics, good for the occasional [Bob Ross](https://en.wikipedia.org/wiki/Bob_Ross) painting:"
   ]
  },
  {
   "cell_type": "code",
   "execution_count": 35,
   "metadata": {},
   "outputs": [],
   "source": [
    "using ColorSchemes\n",
    "function drawsunset()\n",
    "    colscheme= ColorSchemes.sunset\n",
    "    @png begin\n",
    "        background(\"burlywood4\")\n",
    "        sethue(\"orange\")\n",
    "        circle(O + (0, 60), 60, :fill)\n",
    "        setopacity(0.5)\n",
    "        for y in -200:20:180\n",
    "            sethue(get(colscheme, rescale(y, -200, 180, 1, 0)))\n",
    "            for w in 10:5:20\n",
    "                brush(Point(-350, y), Point(350, y), w,\n",
    "                    strokes = 1,\n",
    "                    twist = 5,\n",
    "                    minwidth=0.02,\n",
    "                    maxwidth=0.04,\n",
    "                    randomopacity=true\n",
    "                )\n",
    "            end\n",
    "        end\n",
    "        fontsize(30)\n",
    "        fontface(\"Pique-Black\")\n",
    "        text(\"Sunset over Luxor\", Point(0, 230), halign=:center)\n",
    "    end 800 500 \"images/bezier/sunset.png\"\n",
    "end\n",
    "drawsunset()"
   ]
  },
  {
   "cell_type": "markdown",
   "metadata": {},
   "source": [
    "![sunset over luxor](notebooks/images/bezier/sunset.png)"
   ]
  },
  {
   "cell_type": "markdown",
   "metadata": {},
   "source": [
    "Each time you evaluate this the result is slightly different, yet always the same. Perhaps the next one will be better — wait, no, perhaps I preferred the previous one..."
   ]
  },
  {
   "cell_type": "markdown",
   "metadata": {},
   "source": [
    "And because we started in France, let's paint some graffiti:"
   ]
  },
  {
   "cell_type": "code",
   "execution_count": 36,
   "metadata": {},
   "outputs": [],
   "source": [
    "function drawfrenchflag()\n",
    "    w, h = 700, 400\n",
    "    @png begin\n",
    "        background(\"azure\")\n",
    "        setopacity(0.85)\n",
    "        setline(0.5)\n",
    "        colscheme = ColorScheme([Colors.RGB.(sethue(\"royalblue1\")...),\n",
    "                   Colors.RGB.(sethue(\"white\")...),\n",
    "                   Colors.RGB.(sethue(\"red\")...)])\n",
    "        for x in -w/2:40:w/2\n",
    "            # reduce x to 1, 2, or 3, then to [0-1] to get red/white/blue\n",
    "            col = rescale(div(x+w/2, w/3) + 1, 1, 3, 0, 1)\n",
    "            sethue(get(colscheme, col))\n",
    "            for i in 5:10:50\n",
    "                brush(Point(x, -h/2), Point(x, h/2),\n",
    "                    i,\n",
    "                    strokes=2,\n",
    "                    twist=10,\n",
    "                    highhandle=1)\n",
    "            end\n",
    "        end\n",
    "        b = box(O, 675, 375, vertices=true)\n",
    "        for i in 1:length(b)\n",
    "            sethue(\"purple\")\n",
    "            brush(b[i], b[mod1(i + 1, length(b))], 30,\n",
    "                strokes=20,\n",
    "                minwidth=0.01,\n",
    "                maxwidth=0.05)\n",
    "        end\n",
    "        fontface(\"MistralStd\")\n",
    "        setopacity(0.7)\n",
    "        sethue(\"purple\")\n",
    "        fontsize(100)\n",
    "        text(\"Vive la France!\", O + (10, 80), halign=:center, angle=-pi/10)\n",
    "    end 800 500 \"images/bezier/frenchflag.png\"\n",
    "end\n",
    "\n",
    "drawfrenchflag()"
   ]
  },
  {
   "cell_type": "markdown",
   "metadata": {},
   "source": [
    "![drapeau francais](notebooks/images/bezier/frenchflag.png)"
   ]
  },
  {
   "cell_type": "markdown",
   "metadata": {},
   "source": [
    "...and then speed off in our curvaceous old Citroen DS and drive to the France/Swiss border, where CERN are busy recreating the big bang:"
   ]
  },
  {
   "cell_type": "code",
   "execution_count": 37,
   "metadata": {},
   "outputs": [],
   "source": [
    "using ColorSchemes\n",
    "function unpetitbang()\n",
    "    @png begin\n",
    "        background(\"gray10\")\n",
    "\n",
    "        # rays\n",
    "        for i in 1:300\n",
    "            sethue(get(ColorSchemes.inferno, rand()))\n",
    "            rotate(rand())\n",
    "            brush(O + (rand(30:500), 0), O + (rand(501:1000), 0), 1,\n",
    "                strokes=5,\n",
    "                twist=rand(-1:0.1:1),\n",
    "                lowhandle  = 0.0,\n",
    "                highhandle = 0.5\n",
    "                )\n",
    "            l = rand(100:600)\n",
    "            l1 = l + rand(5:50)\n",
    "            sethue(\"white\")\n",
    "            brush(O + (l, 0), O + (l1, 0), 1,\n",
    "                strokes=10,\n",
    "                twist=rand(-1:0.1:1),\n",
    "                lowhandle  = 0.0,\n",
    "                highhandle = 1\n",
    "                )\n",
    "        end\n",
    "\n",
    "        # plasmas\n",
    "        for i in 1:20\n",
    "            sethue(get(ColorSchemes.plasma, rand()))\n",
    "            setopacity(rand(0.25:.05:0.75))\n",
    "            rotate(rand())\n",
    "            brush(O - (20, 0), O + (20, 0), 20,\n",
    "                maxwidth = 10,\n",
    "                highhandle = 10)\n",
    "        end\n",
    "\n",
    "        # orbits\n",
    "        sethue(\"ivory\")\n",
    "        setline(0.5)\n",
    "        for i in 1:10\n",
    "            rotate(rand())\n",
    "            brush(O - (0, 0), O + (50, 0), 10,\n",
    "                maxwidth = 20,\n",
    "                highhandle = 20,\n",
    "                action=:stroke)\n",
    "        end\n",
    "\n",
    "    end 1000 1000 \"images/bezier/unpetitbang.png\"\n",
    "end\n",
    "unpetitbang()"
   ]
  },
  {
   "cell_type": "markdown",
   "metadata": {},
   "source": [
    "![un petit bang](notebooks/images/bezier/unpetitbang.png)"
   ]
  },
  {
   "cell_type": "markdown",
   "metadata": {},
   "source": [
    "[2018-06-20]"
   ]
  },
  {
   "cell_type": "markdown",
   "metadata": {},
   "source": [
    "### Footnotes"
   ]
  },
  {
   "cell_type": "markdown",
   "metadata": {},
   "source": [
    "#### *Don Lancaster*"
   ]
  },
  {
   "cell_type": "markdown",
   "metadata": {},
   "source": [
    "Don Lancaster is the totally awesome dude who was active in the very early days of personal computing, and probably knows more about PostScript than most of the current Adobe Systems employees put together. Travel back in time by visiting his wacky website at http://www.tinaja.com."
   ]
  },
  {
   "cell_type": "markdown",
   "metadata": {},
   "source": [
    "#### *Graphic formats*"
   ]
  },
  {
   "cell_type": "markdown",
   "metadata": {},
   "source": [
    "All the images in this post are in PNG, but they looked better in the vector-based SVG format. However, there's an annoying ‘bug’ in Jupyter/IJulia/IPython involving text in SVG images created by Cairo. What happens is that Cairo tries to be smart and stores text in XML symbols, suitable for re-use. A good idea, but unfortunately they're stored in the notebook's ‘global XML scope’, and so later cells accidentally pick up symbol definitions from earlier cells and re-use them, even though that's not always what you want. A solution would be to somehow encapsulate the SVG image in a cell to prevent the definitions leaking. I don't know how to do that yet, but there's an [open issue](https://github.com/JuliaLang/IJulia.jl/issues/662) if you can help me find a workround..."
   ]
  },
  {
   "cell_type": "code",
   "execution_count": 38,
   "metadata": {},
   "outputs": [
    {
     "name": "stdout",
     "output_type": "stream",
     "text": [
      "pwd() = \"/Users/pete/projects/programming/julia/githubpages/cormullion.github.io/src/notebooks\"\n"
     ]
    },
    {
     "data": {
      "text/plain": [
       "\"/Users/pete/projects/programming/julia/githubpages/cormullion.github.io/src/notebooks\""
      ]
     },
     "execution_count": 38,
     "metadata": {},
     "output_type": "execute_result"
    }
   ],
   "source": [
    "@show pwd()"
   ]
  },
  {
   "cell_type": "markdown",
   "metadata": {},
   "source": [
    "*This notebook was generated using [Literate.jl](https://github.com/fredrikekre/Literate.jl).*"
   ]
  }
 ],
 "metadata": {
  "kernelspec": {
   "display_name": "Julia 1.1.0",
   "language": "julia",
   "name": "julia-1.1"
  },
  "language_info": {
   "file_extension": ".jl",
   "mimetype": "application/julia",
   "name": "julia",
   "version": "1.2.0-rc1.0"
  }
 },
 "nbformat": 4,
 "nbformat_minor": 3
}
